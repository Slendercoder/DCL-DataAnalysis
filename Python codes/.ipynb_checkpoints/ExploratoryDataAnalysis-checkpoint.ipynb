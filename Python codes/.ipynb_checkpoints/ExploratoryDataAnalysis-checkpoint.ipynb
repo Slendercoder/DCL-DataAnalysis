{
 "cells": [
  {
   "cell_type": "code",
   "execution_count": 1,
   "metadata": {},
   "outputs": [],
   "source": [
    "import pandas as pd\n",
    "import seaborn as sns\n",
    "from FRA import *\n",
    "from sklearn.linear_model import LinearRegression\n",
    "import statsmodels.api as sm\n",
    "import statsmodels.formula.api as smf"
   ]
  },
  {
   "cell_type": "markdown",
   "metadata": {},
   "source": [
    "**Correr esta celda para distancia euclidiana**"
   ]
  },
  {
   "cell_type": "code",
   "execution_count": 2,
   "metadata": {},
   "outputs": [
    {
     "data": {
      "text/html": [
       "<div>\n",
       "<style scoped>\n",
       "    .dataframe tbody tr th:only-of-type {\n",
       "        vertical-align: middle;\n",
       "    }\n",
       "\n",
       "    .dataframe tbody tr th {\n",
       "        vertical-align: top;\n",
       "    }\n",
       "\n",
       "    .dataframe thead th {\n",
       "        text-align: right;\n",
       "    }\n",
       "</style>\n",
       "<table border=\"1\" class=\"dataframe\">\n",
       "  <thead>\n",
       "    <tr style=\"text-align: right;\">\n",
       "      <th></th>\n",
       "      <th>Dyad</th>\n",
       "      <th>Round</th>\n",
       "      <th>Player</th>\n",
       "      <th>Region</th>\n",
       "      <th>Category</th>\n",
       "      <th>CategoryGo</th>\n",
       "      <th>RegionGo</th>\n",
       "      <th>Score</th>\n",
       "      <th>S_score</th>\n",
       "      <th>DLIndex</th>\n",
       "      <th>S_dlindex</th>\n",
       "      <th>Similarity</th>\n",
       "      <th>SimilarityGo</th>\n",
       "      <th>Dists</th>\n",
       "      <th>Dists1</th>\n",
       "      <th>indice</th>\n",
       "    </tr>\n",
       "  </thead>\n",
       "  <tbody>\n",
       "    <tr>\n",
       "      <th>0</th>\n",
       "      <td>140-615</td>\n",
       "      <td>1</td>\n",
       "      <td>140-615PL1</td>\n",
       "      <td>[0, 0, 1, 0, 0, 0, 0, 0, 0, 0, 0, 0, 0, 0, 1, ...</td>\n",
       "      <td>RS</td>\n",
       "      <td>RS</td>\n",
       "      <td>[0, 0, 0, 0, 0, 0, 0, 0, 0, 0, 0, 0, 0, 0, 0, ...</td>\n",
       "      <td>23.0</td>\n",
       "      <td>3.975450e-31</td>\n",
       "      <td>0.609375</td>\n",
       "      <td>0.000073</td>\n",
       "      <td>12</td>\n",
       "      <td>15.0</td>\n",
       "      <td>[20, 44, 12, 52, 36, 28, 28, 36]</td>\n",
       "      <td>[49, 15, 19, 45, 33, 31, 37, 27]</td>\n",
       "      <td>0</td>\n",
       "    </tr>\n",
       "    <tr>\n",
       "      <th>1</th>\n",
       "      <td>140-615</td>\n",
       "      <td>9</td>\n",
       "      <td>140-615PL1</td>\n",
       "      <td>[0, 0, 0, 0, 0, 0, 0, 0, 0, 0, 0, 0, 0, 0, 0, ...</td>\n",
       "      <td>RS</td>\n",
       "      <td>NOTHING</td>\n",
       "      <td>[0, 0, 0, 0, 0, 0, 0, 0, 0, 0, 0, 0, 0, 0, 0, ...</td>\n",
       "      <td>27.0</td>\n",
       "      <td>9.357623e-14</td>\n",
       "      <td>0.828125</td>\n",
       "      <td>0.803174</td>\n",
       "      <td>15</td>\n",
       "      <td>0.0</td>\n",
       "      <td>[49, 15, 19, 45, 33, 31, 37, 27]</td>\n",
       "      <td>[64, 0, 32, 32, 32, 32, 36, 28]</td>\n",
       "      <td>1</td>\n",
       "    </tr>\n",
       "  </tbody>\n",
       "</table>\n",
       "</div>"
      ],
      "text/plain": [
       "      Dyad  Round      Player  \\\n",
       "0  140-615      1  140-615PL1   \n",
       "1  140-615      9  140-615PL1   \n",
       "\n",
       "                                              Region Category CategoryGo  \\\n",
       "0  [0, 0, 1, 0, 0, 0, 0, 0, 0, 0, 0, 0, 0, 0, 1, ...       RS         RS   \n",
       "1  [0, 0, 0, 0, 0, 0, 0, 0, 0, 0, 0, 0, 0, 0, 0, ...       RS    NOTHING   \n",
       "\n",
       "                                            RegionGo  Score       S_score  \\\n",
       "0  [0, 0, 0, 0, 0, 0, 0, 0, 0, 0, 0, 0, 0, 0, 0, ...   23.0  3.975450e-31   \n",
       "1  [0, 0, 0, 0, 0, 0, 0, 0, 0, 0, 0, 0, 0, 0, 0, ...   27.0  9.357623e-14   \n",
       "\n",
       "    DLIndex  S_dlindex  Similarity  SimilarityGo  \\\n",
       "0  0.609375   0.000073          12          15.0   \n",
       "1  0.828125   0.803174          15           0.0   \n",
       "\n",
       "                              Dists                            Dists1  indice  \n",
       "0  [20, 44, 12, 52, 36, 28, 28, 36]  [49, 15, 19, 45, 33, 31, 37, 27]       0  \n",
       "1  [49, 15, 19, 45, 33, 31, 37, 27]   [64, 0, 32, 32, 32, 32, 36, 28]       1  "
      ]
     },
     "execution_count": 2,
     "metadata": {},
     "output_type": "execute_result"
    }
   ],
   "source": [
    "# List of columns for region visited\n",
    "Num_Loc = 8\n",
    "cols1 = ['a' + str(i) + str(j) \\\n",
    "for i in range(1, Num_Loc + 1) \\\n",
    "for j in range(1, Num_Loc + 1) \\\n",
    "]\n",
    "focals, strategies = create_regions_and_strategies(8)\n",
    "nombres = [nameRegion(x) for x in range(9)]\n",
    "complements = [[1 - x for x in sublist] for sublist in focals]\n",
    "columns = ['Dyad', 'Round', 'Player', 'Region', 'Category', 'CategoryGo',\\\n",
    "           'RegionGo', 'Score', 'S_score', 'DLIndex', 'S_dlindex',\\\n",
    "           'Similarity', 'SimilarityGo', 'Dists', 'Dists1', 'indice']\n",
    "\n",
    "#data = pd.read_csv('../Data/humans_absent.csv')\n",
    "#data['Region'] = data['Region'].apply(lambda x: [int(y) for y in x[1:-1].split(',')])\n",
    "#data['RegionGo'] = data['RegionGo'].apply(lambda x: [int(y) for y in x[1:-1].split(',')])\n",
    "#data['Overlap'] = data['Overlap'].apply(lambda x: [int(y) for y in x[1:-1].split(' ')])\n",
    "#data['DistsO'] = data['Overlap'].apply(lambda x: [dist(x, f) for f in focals])\n",
    "#data['SizeO'] = data['Overlap'].apply(lambda x: np.sum(x))\n",
    "#data['DistsC'] = data['Overlap'].apply(lambda x: [dist(x, f) for f in complements])\n",
    "#data['Dists'] = data['Region'].apply(lambda x: [dist(x, f) for f in focals])\n",
    "#data['Dists1'] = data['RegionGo'].apply(lambda x: [dist(x, f) for f in focals])\n",
    "#data['Size'] = data['Region'].apply(lambda x: np.sum(x))\n",
    "#data['S_score'] = data['Score'].apply(lambda x: sigmoid(x, 10, 30))\n",
    "#data['indice'] = data.index\n",
    "#data['Dif'] = data.apply(lambda x: np.subtract(x['Dists'], x['Dists1']).tolist(), axis=1)\n",
    "\n",
    "data = pd.read_csv('../Data/new_humans_only_absent.csv')\n",
    "data['Region'] = data.apply(lambda x: x[cols1].to_list(), axis=1)\n",
    "data['RegionGo'] = data.groupby(['Dyad', 'Player'])['Region'].transform('shift', -1)\n",
    "data['CategoryGo'] = data.groupby(['Dyad', 'Player'])['Category'].transform('shift', -1)\n",
    "data['SimilarityGo'] = data.groupby(['Dyad', 'Player'])['Similarity'].transform('shift', -1)\n",
    "data['Dists'] = data['Region'].apply(lambda x: [dist(x, f) for f in focals])\n",
    "data['Dists1'] = data['RegionGo'].apply(lambda x: [dist(x, f) for f in focals])\n",
    "data['Size'] = data['Region'].apply(lambda x: np.sum(x))\n",
    "data['S_score'] = data['Score'].apply(lambda x: sigmoid(x, 10, 30))\n",
    "data['S_dlindex'] = data['DLIndex'].apply(lambda x: sigmoid(x, 50, .8))\n",
    "data['indice'] = data.index\n",
    "data = data[columns]\n",
    "data.head(2)"
   ]
  },
  {
   "cell_type": "markdown",
   "metadata": {},
   "source": [
    "**Creando variables con sigmoides**"
   ]
  },
  {
   "cell_type": "code",
   "execution_count": null,
   "metadata": {},
   "outputs": [],
   "source": [
    "x = [0.1*i for i in range(0, 330)]\n",
    "y = [sigmoid(i, 4.48583611, 2.78357329) for i in x]\n",
    "sns.lineplot(x=x, y=y)"
   ]
  },
  {
   "cell_type": "code",
   "execution_count": null,
   "metadata": {},
   "outputs": [],
   "source": [
    "x = [0.01*i for i in range(0, 100)]\n",
    "y = [sigmoid(i, 50, .8) for i in x]\n",
    "sns.lineplot(x=x, y=y)"
   ]
  },
  {
   "cell_type": "code",
   "execution_count": null,
   "metadata": {},
   "outputs": [],
   "source": [
    "data['S_score'] = data['Score'].apply(lambda x: sigmoid(x, 10, 30))"
   ]
  },
  {
   "cell_type": "code",
   "execution_count": null,
   "metadata": {},
   "outputs": [],
   "source": [
    "x = range(0, 33)\n",
    "y = [8 - 8*sigmoid(i, 1, 4) for i in x]\n",
    "sns.lineplot(x=x, y=y)"
   ]
  },
  {
   "cell_type": "markdown",
   "metadata": {},
   "source": [
    "**Agrupando por tipo de región focal**"
   ]
  },
  {
   "cell_type": "code",
   "execution_count": 65,
   "metadata": {},
   "outputs": [],
   "source": [
    "dict_tipo_region = {'RS':'RS', 'ALL':'ALL', 'NOTHING':'NOTHING',\n",
    "                   'LEFT':'FR', 'RIGHT':'FR', 'TOP':'FR', 'BOTTOM':'FR',\n",
    "                   'IN':'St', 'OUT':'St'}\n",
    "data['Tipo'] = data['Category'].map(dict_tipo_region)\n",
    "data['TipoGo'] = data['CategoryGo'].map(dict_tipo_region)"
   ]
  },
  {
   "cell_type": "code",
   "execution_count": 66,
   "metadata": {},
   "outputs": [],
   "source": [
    "dict_tipo_region2 = {'RS':'RS', 'ALL':'GFR', 'NOTHING':'GFR',\n",
    "                   'LEFT':'GFR', 'RIGHT':'GFR', 'TOP':'GFR', 'BOTTOM':'GFR',\n",
    "                   'IN':'St', 'OUT':'St'}\n",
    "data['Tipo2'] = data['Category'].map(dict_tipo_region2)\n",
    "data['Tipo2Go'] = data['CategoryGo'].map(dict_tipo_region2)"
   ]
  },
  {
   "cell_type": "code",
   "execution_count": 67,
   "metadata": {},
   "outputs": [],
   "source": [
    "dict_tipo_region3 = {'RS':'RS', 'ALL':'FR', 'NOTHING':'FR',\n",
    "                   'LEFT':'FR', 'RIGHT':'FR', 'TOP':'FR', 'BOTTOM':'FR',\n",
    "                   'IN':'FR', 'OUT':'FR'}\n",
    "data['Tipo3'] = data['Category'].map(dict_tipo_region3)\n",
    "data['Tipo3Go'] = data['CategoryGo'].map(dict_tipo_region3)"
   ]
  },
  {
   "cell_type": "markdown",
   "metadata": {},
   "source": [
    "**Análisis univariado**"
   ]
  },
  {
   "cell_type": "code",
   "execution_count": 97,
   "metadata": {},
   "outputs": [
    {
     "data": {
      "text/plain": [
       "Text(0.5, 1.0, 'DLindex')"
      ]
     },
     "execution_count": 97,
     "metadata": {},
     "output_type": "execute_result"
    },
    {
     "data": {
      "image/png": "[encoded data removed]",
      "text/plain": [
       "<Figure size 864x288 with 3 Axes>"
      ]
     },
     "metadata": {
      "needs_background": "light"
     },
     "output_type": "display_data"
    }
   ],
   "source": [
    "fig, ax = plt.subplots(1,3, figsize=(12,4))\n",
    "fig.tight_layout(pad=3.0)\n",
    "\n",
    "sns.distplot(data['Similarity'], ax=ax[0])\n",
    "ax[0].set_title('Min Distance to focal region')\n",
    "sns.distplot(data['Score'], ax=ax[1])\n",
    "ax[0].set_title('Scores')\n",
    "sns.distplot(data['DLIndex'], ax=ax[2])\n",
    "ax[0].set_title('DLindex')"
   ]
  },
  {
   "cell_type": "code",
   "execution_count": 98,
   "metadata": {},
   "outputs": [
    {
     "data": {
      "text/plain": [
       "<matplotlib.axes._subplots.AxesSubplot at 0x124180340>"
      ]
     },
     "execution_count": 98,
     "metadata": {},
     "output_type": "execute_result"
    },
    {
     "data": {
      "image/png": "[encoded data removed]",
      "text/plain": [
       "<Figure size 864x288 with 1 Axes>"
      ]
     },
     "metadata": {
      "needs_background": "light"
     },
     "output_type": "display_data"
    }
   ],
   "source": [
    "fig, ax = plt.subplots(figsize=(12,4))\n",
    "sns.countplot(x='Category', data=data)"
   ]
  },
  {
   "cell_type": "code",
   "execution_count": 99,
   "metadata": {},
   "outputs": [
    {
     "name": "stderr",
     "output_type": "stream",
     "text": [
      "/usr/local/lib/python3.8/site-packages/seaborn/distributions.py:369: UserWarning: Default bandwidth for data is 0; skipping density estimation.\n",
      "  warnings.warn(msg, UserWarning)\n",
      "/usr/local/lib/python3.8/site-packages/seaborn/distributions.py:369: UserWarning: Default bandwidth for data is 0; skipping density estimation.\n",
      "  warnings.warn(msg, UserWarning)\n"
     ]
    },
    {
     "data": {
      "image/png": "[encoded data removed]",
      "text/plain": [
       "<Figure size 1152x1152 with 9 Axes>"
      ]
     },
     "metadata": {
      "needs_background": "light"
     },
     "output_type": "display_data"
    }
   ],
   "source": [
    "df = data[data['Category']==data['CategoryGo']]\n",
    "fig=plt.figure(figsize=(16, 16))\n",
    "contador = 1\n",
    "for c, grp in df.groupby('Category'):\n",
    "    ax=plt.subplot(4,4,contador)\n",
    "    ax.set_title(c)\n",
    "    sns.distplot(grp['Score'])\n",
    "    contador += 1"
   ]
  },
  {
   "cell_type": "code",
   "execution_count": 100,
   "metadata": {},
   "outputs": [
    {
     "data": {
      "text/plain": [
       "<matplotlib.axes._subplots.AxesSubplot at 0x124159d30>"
      ]
     },
     "execution_count": 100,
     "metadata": {},
     "output_type": "execute_result"
    },
    {
     "data": {
      "image/png": "[encoded data removed]",
      "text/plain": [
       "<Figure size 864x288 with 1 Axes>"
      ]
     },
     "metadata": {
      "needs_background": "light"
     },
     "output_type": "display_data"
    }
   ],
   "source": [
    "fig, ax = plt.subplots(figsize=(12,4))\n",
    "sns.countplot(x='CategoryGo', data=data[data['Category']=='RS'])"
   ]
  },
  {
   "cell_type": "code",
   "execution_count": null,
   "metadata": {},
   "outputs": [],
   "source": [
    "df_rs = data[data['Category']=='RS']['CategoryGo'].value_counts().reset_index()\n",
    "df_rs['CategoryGo'] = df_rs['CategoryGo']/df_rs['CategoryGo'].sum()\n",
    "df_rs"
   ]
  },
  {
   "cell_type": "code",
   "execution_count": null,
   "metadata": {},
   "outputs": [],
   "source": [
    "df_rs_dict = dict(zip(df_rs['index'], df_rs['CategoryGo']))\n",
    "[round(df_rs_dict[n], 2) for n in nombres]"
   ]
  },
  {
   "cell_type": "code",
   "execution_count": null,
   "metadata": {},
   "outputs": [],
   "source": [
    "fig, ax = plt.subplots(figsize=(12,4))\n",
    "sns.countplot(x='TipoGo', data=data[data['Category']=='RS'])"
   ]
  },
  {
   "cell_type": "code",
   "execution_count": null,
   "metadata": {},
   "outputs": [],
   "source": [
    "df_rs = data[data['Category']=='RS']['TipoGo'].value_counts().reset_index()\n",
    "df_rs['TipoGo'] = df_rs['TipoGo']/df_rs['TipoGo'].sum()\n",
    "df_rs"
   ]
  },
  {
   "cell_type": "code",
   "execution_count": null,
   "metadata": {},
   "outputs": [],
   "source": [
    "df_rs_dict = dict(zip(df_rs['index'], df_rs['TipoGo']))\n",
    "[round(df_rs_dict[n], 2) for n in ['RS', 'ALL', 'NOTHING', 'FR', 'St']]"
   ]
  },
  {
   "cell_type": "markdown",
   "metadata": {},
   "source": [
    "**Comportamiento respecto al puntaje al continuar en misma región**"
   ]
  },
  {
   "cell_type": "code",
   "execution_count": null,
   "metadata": {},
   "outputs": [],
   "source": [
    "df = data[data['Category']==data['CategoryGo']]\n",
    "fig=plt.figure(figsize=(16, 16))\n",
    "contador = 1\n",
    "for c, grp in df.groupby('Tipo'):\n",
    "    ax=plt.subplot(3,3,contador)\n",
    "    ax.set_title(c)\n",
    "    sns.distplot(grp['Score'])\n",
    "    contador += 1"
   ]
  },
  {
   "cell_type": "code",
   "execution_count": null,
   "metadata": {},
   "outputs": [],
   "source": [
    "df_fr = df[df['Tipo']=='FR']\n",
    "datos = df_fr['Score'].value_counts().reset_index()\n",
    "datos.columns = ['Score', 'Counts']\n",
    "datos['Counts_n'] = datos['Counts']/datos['Counts'].max()\n",
    "x = datos['Score']\n",
    "y = datos['Counts_n']\n",
    "sns.scatterplot(x, y)"
   ]
  },
  {
   "cell_type": "code",
   "execution_count": null,
   "metadata": {},
   "outputs": [],
   "source": [
    "from scipy.optimize import minimize\n",
    "\n",
    "def MSD(parametros, data, pl=False):\n",
    "    bias = parametros[0]\n",
    "    beta = parametros[1]\n",
    "    gamma = parametros[2]\n",
    "    data['Fit'] = data['Score'].apply(lambda x: bias + sigmoid(x, beta, gamma))\n",
    "    if pl:\n",
    "        sns.scatterplot(x='Score', y='Counts_n', data=data)\n",
    "        sns.scatterplot(x='Score', y='Fit', data=data)\n",
    "    return ((data['Counts_n'] - data['Fit'])*(data['Counts_n'] - data['Fit'])).sum()\n",
    "\n",
    "def optimizar(parametros, data):\n",
    "    x0 = np.array(parametros)\n",
    "    res = minimize(MSD,\n",
    "                   x0,\n",
    "                  args = data)\n",
    "    return res"
   ]
  },
  {
   "cell_type": "code",
   "execution_count": null,
   "metadata": {},
   "outputs": [],
   "source": [
    "MSD([0.5, 10,30], datos, pl=True)"
   ]
  },
  {
   "cell_type": "code",
   "execution_count": null,
   "metadata": {},
   "outputs": [],
   "source": [
    "res = optimizar([0.5, 10, 30], datos)"
   ]
  },
  {
   "cell_type": "code",
   "execution_count": null,
   "metadata": {},
   "outputs": [],
   "source": [
    "res.x"
   ]
  },
  {
   "cell_type": "code",
   "execution_count": null,
   "metadata": {},
   "outputs": [],
   "source": [
    "MSD(res.x, datos, pl=True)"
   ]
  },
  {
   "cell_type": "markdown",
   "metadata": {},
   "source": [
    "**Comportamiento de frecuencias cuando jugador está en FR**"
   ]
  },
  {
   "cell_type": "code",
   "execution_count": null,
   "metadata": {},
   "outputs": [],
   "source": [
    "datos = data[data['Tipo']=='FR']\n",
    "datos = datos[['Score', 'TipoGo']]\n",
    "datos = datos.groupby('Score')['TipoGo'].value_counts().reset_index(name='Counts')\n",
    "datos.head()\n",
    "df_freqs = pd.pivot_table(data=datos,\n",
    "                         index='Score',\n",
    "                         values='Counts',\n",
    "                          columns=['TipoGo']).reset_index()\n",
    "\n",
    "columnas = ['ALL', 'FR', 'NOTHING', 'RS', 'St']\n",
    "columnas = [c for c in columnas if c in df_freqs.columns]\n",
    "df_freqs['Sum'] = df_freqs.apply(lambda x: x[columnas].sum(), axis=1)\n",
    "for c in columnas:\n",
    "    df_freqs[c] = round(df_freqs[c] / df_freqs['Sum'], 2)\n",
    "\n",
    "df_freqs"
   ]
  },
  {
   "cell_type": "code",
   "execution_count": null,
   "metadata": {},
   "outputs": [],
   "source": [
    "sns.scatterplot('Score', 'FR', data=df_freqs)"
   ]
  },
  {
   "cell_type": "code",
   "execution_count": null,
   "metadata": {},
   "outputs": [],
   "source": [
    "df_freqs['Counts_n'] = df_freqs['FR']"
   ]
  },
  {
   "cell_type": "code",
   "execution_count": null,
   "metadata": {},
   "outputs": [],
   "source": [
    "MSD([0.5, 10,30], df_freqs, pl=True)"
   ]
  },
  {
   "cell_type": "code",
   "execution_count": null,
   "metadata": {},
   "outputs": [],
   "source": [
    "res = optimizar([0.5, 10, 30], df_freqs)"
   ]
  },
  {
   "cell_type": "code",
   "execution_count": null,
   "metadata": {},
   "outputs": [],
   "source": [
    "res.x"
   ]
  },
  {
   "cell_type": "code",
   "execution_count": null,
   "metadata": {},
   "outputs": [],
   "source": [
    "MSD(res.x, df_freqs, pl=True)"
   ]
  },
  {
   "cell_type": "markdown",
   "metadata": {},
   "source": [
    "**Comportamiento de frecuencias cuando jugador está en ALL, NOTHING y St**"
   ]
  },
  {
   "cell_type": "code",
   "execution_count": null,
   "metadata": {},
   "outputs": [],
   "source": [
    "datos = data[data['Tipo']=='ALL']\n",
    "datos = datos[['Score', 'TipoGo']]\n",
    "datos = datos.groupby('Score')['TipoGo'].value_counts().reset_index(name='Counts')\n",
    "datos.head()\n",
    "df_freqs = pd.pivot_table(data=datos,\n",
    "                         index='Score',\n",
    "                         values='Counts',\n",
    "                          columns=['TipoGo']).reset_index()\n",
    "\n",
    "columnas = ['ALL', 'FR', 'NOTHING', 'RS', 'St']\n",
    "columnas = [c for c in columnas if c in df_freqs.columns]\n",
    "df_freqs['Sum'] = df_freqs.apply(lambda x: x[columnas].sum(), axis=1)\n",
    "for c in columnas:\n",
    "    df_freqs[c] = round(df_freqs[c] / df_freqs['Sum'], 2)\n",
    "\n",
    "df_freqs.tail()"
   ]
  },
  {
   "cell_type": "code",
   "execution_count": null,
   "metadata": {},
   "outputs": [],
   "source": [
    "sns.scatterplot('Score', 'ALL', data=df_freqs)"
   ]
  },
  {
   "cell_type": "code",
   "execution_count": null,
   "metadata": {},
   "outputs": [],
   "source": [
    "df_freqs['Counts_n'] = df_freqs['ALL']\n",
    "res = optimizar([0.1, 10, 30], df_freqs)\n",
    "print(res.x)\n",
    "MSD(res.x, df_freqs, pl=True)"
   ]
  },
  {
   "cell_type": "code",
   "execution_count": null,
   "metadata": {},
   "outputs": [],
   "source": [
    "datos = data[data['Tipo']=='NOTHING']\n",
    "datos = datos[['Score', 'TipoGo']]\n",
    "datos = datos.groupby('Score')['TipoGo'].value_counts().reset_index(name='Counts')\n",
    "datos.head()\n",
    "df_freqs = pd.pivot_table(data=datos,\n",
    "                         index='Score',\n",
    "                         values='Counts',\n",
    "                          columns=['TipoGo']).reset_index()\n",
    "\n",
    "columnas = ['ALL', 'FR', 'NOTHING', 'RS', 'St']\n",
    "columnas = [c for c in columnas if c in df_freqs.columns]\n",
    "df_freqs['Sum'] = df_freqs.apply(lambda x: x[columnas].sum(), axis=1)\n",
    "for c in columnas:\n",
    "    df_freqs[c] = round(df_freqs[c] / df_freqs['Sum'], 2)\n",
    "\n",
    "df_freqs"
   ]
  },
  {
   "cell_type": "code",
   "execution_count": null,
   "metadata": {},
   "outputs": [],
   "source": [
    "sns.scatterplot('Score', 'NOTHING', data=df_freqs)"
   ]
  },
  {
   "cell_type": "code",
   "execution_count": null,
   "metadata": {},
   "outputs": [],
   "source": [
    "df_freqs['Counts_n'] = df_freqs['NOTHING']\n",
    "res = optimizar([0.1, 10, 30], df_freqs)\n",
    "print(res.x)\n",
    "MSD(res.x, df_freqs, pl=True)"
   ]
  },
  {
   "cell_type": "code",
   "execution_count": null,
   "metadata": {},
   "outputs": [],
   "source": [
    "datos = data[data['Tipo']=='St']\n",
    "datos = datos[['Score', 'TipoGo']]\n",
    "datos = datos.groupby('Score')['TipoGo'].value_counts().reset_index(name='Counts')\n",
    "datos.head()\n",
    "df_freqs = pd.pivot_table(data=datos,\n",
    "                         index='Score',\n",
    "                         values='Counts',\n",
    "                          columns=['TipoGo']).reset_index()\n",
    "\n",
    "columnas = ['ALL', 'FR', 'NOTHING', 'RS', 'St']\n",
    "columnas = [c for c in columnas if c in df_freqs.columns]\n",
    "df_freqs['Sum'] = df_freqs.apply(lambda x: x[columnas].sum(), axis=1)\n",
    "for c in columnas:\n",
    "    df_freqs[c] = round(df_freqs[c] / df_freqs['Sum'], 2)\n",
    "\n",
    "df_freqs"
   ]
  },
  {
   "cell_type": "code",
   "execution_count": null,
   "metadata": {},
   "outputs": [],
   "source": [
    "sns.scatterplot('Score', 'St', data=df_freqs)"
   ]
  },
  {
   "cell_type": "code",
   "execution_count": null,
   "metadata": {},
   "outputs": [],
   "source": [
    "df_freqs['Counts_n'] = df_freqs['St']\n",
    "res = optimizar([0.1, 10, 30], df_freqs)\n",
    "print(res.x)\n",
    "MSD(res.x, df_freqs, pl=True)"
   ]
  },
  {
   "cell_type": "markdown",
   "metadata": {},
   "source": [
    "**Comportamiento de frecuencias cuando jugador está en Región focal distinta a IN y OUT**"
   ]
  },
  {
   "cell_type": "code",
   "execution_count": null,
   "metadata": {},
   "outputs": [],
   "source": [
    "datos = data[data['Tipo2']=='GFR']\n",
    "datos = datos[['Score', 'Tipo2Go']]\n",
    "datos = datos.groupby('Score')['Tipo2Go'].value_counts().reset_index(name='Counts')\n",
    "datos.head()\n",
    "df_freqs = pd.pivot_table(data=datos,\n",
    "                         index='Score',\n",
    "                         values='Counts',\n",
    "                          columns=['Tipo2Go']).reset_index()\n",
    "\n",
    "columnas = ['GFR', 'RS', 'St']\n",
    "columnas = [c for c in columnas if c in df_freqs.columns]\n",
    "df_freqs['Sum'] = df_freqs.apply(lambda x: x[columnas].sum(), axis=1)\n",
    "for c in columnas:\n",
    "    df_freqs[c] = round(df_freqs[c] / df_freqs['Sum'], 2)\n",
    "\n",
    "df_freqs.tail()"
   ]
  },
  {
   "cell_type": "code",
   "execution_count": null,
   "metadata": {},
   "outputs": [],
   "source": [
    "sns.scatterplot('Score', 'GFR', data=df_freqs)"
   ]
  },
  {
   "cell_type": "code",
   "execution_count": null,
   "metadata": {},
   "outputs": [],
   "source": [
    "df_freqs['Counts_n'] = df_freqs['GFR']\n",
    "res = optimizar([0.1, 10, 30], df_freqs)\n",
    "print(res.x)\n",
    "MSD(res.x, df_freqs, pl=True)"
   ]
  },
  {
   "cell_type": "markdown",
   "metadata": {},
   "source": [
    "**Comportamiento de frecuencias cuando jugador está en Región focal**"
   ]
  },
  {
   "cell_type": "code",
   "execution_count": null,
   "metadata": {},
   "outputs": [],
   "source": [
    "datos = data[data['Tipo3']=='FR']\n",
    "datos = datos[['Score', 'Tipo3Go']]\n",
    "datos = datos.groupby('Score')['Tipo3Go'].value_counts().reset_index(name='Counts')\n",
    "datos.head()\n",
    "df_freqs = pd.pivot_table(data=datos,\n",
    "                         index='Score',\n",
    "                         values='Counts',\n",
    "                          columns=['Tipo3Go']).reset_index()\n",
    "\n",
    "columnas = ['FR', 'RS']\n",
    "columnas = [c for c in columnas if c in df_freqs.columns]\n",
    "df_freqs['Sum'] = df_freqs.apply(lambda x: x[columnas].sum(), axis=1)\n",
    "for c in columnas:\n",
    "    df_freqs[c] = round(df_freqs[c] / df_freqs['Sum'], 2)\n",
    "\n",
    "df_freqs.tail()"
   ]
  },
  {
   "cell_type": "code",
   "execution_count": null,
   "metadata": {},
   "outputs": [],
   "source": [
    "df_freqs['Counts_n'] = df_freqs['FR']\n",
    "res = optimizar([0.1, 10, 30], df_freqs)\n",
    "print(res.x)\n",
    "MSD(res.x, df_freqs, pl=True)"
   ]
  },
  {
   "cell_type": "markdown",
   "metadata": {},
   "source": [
    "**Analisis bivariado**"
   ]
  },
  {
   "cell_type": "code",
   "execution_count": null,
   "metadata": {},
   "outputs": [],
   "source": [
    "fig, ax = plt.subplots(1,3, figsize=(12,4))\n",
    "sns.regplot(x='Similarity', y='SimilarityGo', ax=ax[0], scatter_kws={'s': 3, 'alpha': 0.2}, \n",
    "           line_kws={'lw': 2, 'color': 'gray'}, data=data)\n",
    "ax[0].set_title('SimilarityGo vs Similarity')\n",
    "sns.regplot(x='Score', y='SimilarityGo', ax=ax[1], scatter_kws={'s': 3, 'alpha': 0.2}, \n",
    "           line_kws={'lw': 2, 'color': 'gray'}, data=data)\n",
    "ax[1].set_title('SimilarityGo vs Score')\n",
    "sns.regplot(x='DLIndex', y='SimilarityGo', ax=ax[2], scatter_kws={'s': 3, 'alpha': 0.2}, \n",
    "           line_kws={'lw': 2, 'color': 'gray'}, data=data)\n",
    "ax[2].set_title('SimilarityGo vs DLindex')"
   ]
  },
  {
   "cell_type": "code",
   "execution_count": null,
   "metadata": {},
   "outputs": [],
   "source": [
    "fig, ax = plt.subplots(1,3, figsize=(12,4))\n",
    "sns.regplot(x='Similarity', y='SimilarityGo', ax=ax[0], scatter_kws={'s': 3, 'alpha': 0.2}, \n",
    "           line_kws={'lw': 2, 'color': 'gray'}, data=data)\n",
    "ax[0].set_title('SimilarityGo vs Similarity')\n",
    "sns.regplot(x='S_score', y='SimilarityGo', ax=ax[1], scatter_kws={'s': 3, 'alpha': 0.2}, \n",
    "           line_kws={'lw': 2, 'color': 'gray'}, data=data)\n",
    "ax[1].set_title('SimilarityGo vs S_score')\n",
    "sns.regplot(x='S_dlindex', y='SimilarityGo', ax=ax[2], scatter_kws={'s': 3, 'alpha': 0.2}, \n",
    "           line_kws={'lw': 2, 'color': 'gray'}, data=data)\n",
    "ax[2].set_title('SimilarityGo vs S_DLindex')"
   ]
  },
  {
   "cell_type": "code",
   "execution_count": null,
   "metadata": {},
   "outputs": [],
   "source": [
    "columnas = ['SimilarityGo', 'Score', 'DLIndex', 'S_score', 'S_dlindex']\n",
    "data[columnas].corr()"
   ]
  },
  {
   "cell_type": "markdown",
   "metadata": {},
   "source": [
    "**Regresiones lineales**"
   ]
  },
  {
   "cell_type": "markdown",
   "metadata": {},
   "source": [
    "Similarity(n+1) ~ Similarity(n)"
   ]
  },
  {
   "cell_type": "code",
   "execution_count": null,
   "metadata": {},
   "outputs": [],
   "source": [
    "mod = smf.ols(formula='SimilarityGo ~ Similarity', data=data)\n",
    "res = mod.fit()\n",
    "print(res.summary())"
   ]
  },
  {
   "cell_type": "markdown",
   "metadata": {},
   "source": [
    "Similarity(n+1) ~ Score(n)"
   ]
  },
  {
   "cell_type": "code",
   "execution_count": null,
   "metadata": {},
   "outputs": [],
   "source": [
    "mod = smf.ols(formula='SimilarityGo ~ Score', data=data)\n",
    "res = mod.fit()\n",
    "print(res.summary())"
   ]
  },
  {
   "cell_type": "markdown",
   "metadata": {},
   "source": [
    "Similarity(n+1) ~ DLindex(n)"
   ]
  },
  {
   "cell_type": "code",
   "execution_count": null,
   "metadata": {},
   "outputs": [],
   "source": [
    "mod = smf.ols(formula='SimilarityGo ~ DLIndex', data=data)\n",
    "res = mod.fit()\n",
    "print(res.summary())"
   ]
  },
  {
   "cell_type": "markdown",
   "metadata": {},
   "source": [
    "Similarity(n+1) ~ Similarity(n) + S_score(n)"
   ]
  },
  {
   "cell_type": "code",
   "execution_count": null,
   "metadata": {},
   "outputs": [],
   "source": [
    "mod = smf.ols(formula='SimilarityGo ~ S_score', data=data)\n",
    "res = mod.fit()\n",
    "print(res.summary())"
   ]
  },
  {
   "cell_type": "code",
   "execution_count": null,
   "metadata": {},
   "outputs": [],
   "source": [
    "mod = smf.ols(formula='SimilarityGo ~ S_dlindex', data=data)\n",
    "res = mod.fit()\n",
    "print(res.summary())"
   ]
  },
  {
   "cell_type": "code",
   "execution_count": null,
   "metadata": {},
   "outputs": [],
   "source": [
    "mod = smf.ols(formula='SimilarityGo ~ Similarity + S_score', data=data)\n",
    "res = mod.fit()\n",
    "print(res.summary())"
   ]
  },
  {
   "cell_type": "code",
   "execution_count": null,
   "metadata": {},
   "outputs": [],
   "source": [
    "mod = smf.ols(formula='SimilarityGo ~ Similarity + S_dlindex', data=data)\n",
    "res = mod.fit()\n",
    "print(res.summary())"
   ]
  },
  {
   "cell_type": "markdown",
   "metadata": {},
   "source": [
    "### Two-way interactions"
   ]
  },
  {
   "cell_type": "markdown",
   "metadata": {},
   "source": [
    "Similarity(n+1) ~ Similarity(n) * S_score(n)"
   ]
  },
  {
   "cell_type": "code",
   "execution_count": null,
   "metadata": {},
   "outputs": [],
   "source": [
    "mod = smf.ols(formula='SimilarityGo ~ Similarity * S_score', data=data)\n",
    "res = mod.fit()\n",
    "print(res.summary())"
   ]
  },
  {
   "cell_type": "code",
   "execution_count": null,
   "metadata": {},
   "outputs": [],
   "source": [
    "mod = smf.ols(formula='SimilarityGo ~ Similarity * S_dlindex', data=data)\n",
    "res = mod.fit()\n",
    "print(res.summary())"
   ]
  },
  {
   "cell_type": "markdown",
   "metadata": {},
   "source": [
    "## Buscando FRA"
   ]
  },
  {
   "cell_type": "markdown",
   "metadata": {},
   "source": [
    "**Encontrando overlap**"
   ]
  },
  {
   "cell_type": "code",
   "execution_count": 69,
   "metadata": {},
   "outputs": [],
   "source": [
    "dict_overlap = {}\n",
    "for key, grp in data.groupby(['Dyad', 'Round'])[['Player', 'Region']]:\n",
    "    players = grp['Player'].unique().tolist()\n",
    "    reg1 = grp[grp['Player']==players[0]]['Region'].to_list()[0]\n",
    "    reg2 = grp[grp['Player']==players[1]]['Region'].to_list()[0]\n",
    "    overlap = np.multiply(reg1, reg2)\n",
    "    dict_overlap[key] = overlap"
   ]
  },
  {
   "cell_type": "code",
   "execution_count": 70,
   "metadata": {},
   "outputs": [
    {
     "data": {
      "text/html": [
       "<div>\n",
       "<style scoped>\n",
       "    .dataframe tbody tr th:only-of-type {\n",
       "        vertical-align: middle;\n",
       "    }\n",
       "\n",
       "    .dataframe tbody tr th {\n",
       "        vertical-align: top;\n",
       "    }\n",
       "\n",
       "    .dataframe thead th {\n",
       "        text-align: right;\n",
       "    }\n",
       "</style>\n",
       "<table border=\"1\" class=\"dataframe\">\n",
       "  <thead>\n",
       "    <tr style=\"text-align: right;\">\n",
       "      <th></th>\n",
       "      <th>Dyad</th>\n",
       "      <th>Round</th>\n",
       "      <th>Player</th>\n",
       "      <th>Region</th>\n",
       "      <th>Category</th>\n",
       "      <th>CategoryGo</th>\n",
       "      <th>RegionGo</th>\n",
       "      <th>Score</th>\n",
       "      <th>S_score</th>\n",
       "      <th>DLIndex</th>\n",
       "      <th>...</th>\n",
       "      <th>Other_Region</th>\n",
       "      <th>Similariy_other</th>\n",
       "      <th>Similariy_otherGo</th>\n",
       "      <th>Category_other</th>\n",
       "      <th>Tipo</th>\n",
       "      <th>TipoGo</th>\n",
       "      <th>Tipo2</th>\n",
       "      <th>Tipo2Go</th>\n",
       "      <th>Tipo3</th>\n",
       "      <th>Tipo3Go</th>\n",
       "    </tr>\n",
       "  </thead>\n",
       "  <tbody>\n",
       "    <tr>\n",
       "      <th>0</th>\n",
       "      <td>140-615</td>\n",
       "      <td>1</td>\n",
       "      <td>140-615PL1</td>\n",
       "      <td>[0, 0, 1, 0, 0, 0, 0, 0, 0, 0, 0, 0, 0, 0, 1, ...</td>\n",
       "      <td>RS</td>\n",
       "      <td>RS</td>\n",
       "      <td>[0, 0, 0, 0, 0, 0, 0, 0, 0, 0, 0, 0, 0, 0, 0, ...</td>\n",
       "      <td>23.0</td>\n",
       "      <td>3.975450e-31</td>\n",
       "      <td>0.609375</td>\n",
       "      <td>...</td>\n",
       "      <td>[0, 0, 0, 0, 0, 0, 0, 0, 0, 1, 0, 0, 0, 0, 0, ...</td>\n",
       "      <td>13</td>\n",
       "      <td>16.0</td>\n",
       "      <td>RS</td>\n",
       "      <td>RS</td>\n",
       "      <td>RS</td>\n",
       "      <td>RS</td>\n",
       "      <td>RS</td>\n",
       "      <td>RS</td>\n",
       "      <td>RS</td>\n",
       "    </tr>\n",
       "    <tr>\n",
       "      <th>1</th>\n",
       "      <td>140-615</td>\n",
       "      <td>9</td>\n",
       "      <td>140-615PL1</td>\n",
       "      <td>[0, 0, 0, 0, 0, 0, 0, 0, 0, 0, 0, 0, 0, 0, 0, ...</td>\n",
       "      <td>RS</td>\n",
       "      <td>NOTHING</td>\n",
       "      <td>[0, 0, 0, 0, 0, 0, 0, 0, 0, 0, 0, 0, 0, 0, 0, ...</td>\n",
       "      <td>27.0</td>\n",
       "      <td>9.357623e-14</td>\n",
       "      <td>0.828125</td>\n",
       "      <td>...</td>\n",
       "      <td>[1, 1, 1, 1, 1, 1, 1, 1, 1, 1, 1, 1, 1, 1, 1, ...</td>\n",
       "      <td>16</td>\n",
       "      <td>21.0</td>\n",
       "      <td>RS</td>\n",
       "      <td>RS</td>\n",
       "      <td>NOTHING</td>\n",
       "      <td>RS</td>\n",
       "      <td>GFR</td>\n",
       "      <td>RS</td>\n",
       "      <td>FR</td>\n",
       "    </tr>\n",
       "    <tr>\n",
       "      <th>2</th>\n",
       "      <td>140-615</td>\n",
       "      <td>10</td>\n",
       "      <td>140-615PL1</td>\n",
       "      <td>[0, 0, 0, 0, 0, 0, 0, 0, 0, 0, 0, 0, 0, 0, 0, ...</td>\n",
       "      <td>NOTHING</td>\n",
       "      <td>NOTHING</td>\n",
       "      <td>[0, 0, 0, 0, 0, 0, 0, 0, 0, 0, 0, 0, 0, 0, 0, ...</td>\n",
       "      <td>32.0</td>\n",
       "      <td>1.000000e+00</td>\n",
       "      <td>0.421875</td>\n",
       "      <td>...</td>\n",
       "      <td>[1, 1, 0, 0, 1, 0, 0, 0, 1, 0, 1, 0, 1, 0, 0, ...</td>\n",
       "      <td>21</td>\n",
       "      <td>22.0</td>\n",
       "      <td>RS</td>\n",
       "      <td>NOTHING</td>\n",
       "      <td>NOTHING</td>\n",
       "      <td>GFR</td>\n",
       "      <td>GFR</td>\n",
       "      <td>FR</td>\n",
       "      <td>FR</td>\n",
       "    </tr>\n",
       "    <tr>\n",
       "      <th>3</th>\n",
       "      <td>140-615</td>\n",
       "      <td>11</td>\n",
       "      <td>140-615PL1</td>\n",
       "      <td>[0, 0, 0, 0, 0, 0, 0, 0, 0, 0, 0, 0, 0, 0, 0, ...</td>\n",
       "      <td>NOTHING</td>\n",
       "      <td>ALL</td>\n",
       "      <td>[1, 1, 1, 1, 1, 1, 1, 1, 1, 1, 1, 1, 1, 1, 1, ...</td>\n",
       "      <td>32.0</td>\n",
       "      <td>1.000000e+00</td>\n",
       "      <td>0.531250</td>\n",
       "      <td>...</td>\n",
       "      <td>[0, 1, 0, 1, 1, 1, 0, 0, 1, 0, 1, 1, 1, 1, 1, ...</td>\n",
       "      <td>22</td>\n",
       "      <td>21.0</td>\n",
       "      <td>RS</td>\n",
       "      <td>NOTHING</td>\n",
       "      <td>ALL</td>\n",
       "      <td>GFR</td>\n",
       "      <td>GFR</td>\n",
       "      <td>FR</td>\n",
       "      <td>FR</td>\n",
       "    </tr>\n",
       "    <tr>\n",
       "      <th>4</th>\n",
       "      <td>140-615</td>\n",
       "      <td>39</td>\n",
       "      <td>140-615PL1</td>\n",
       "      <td>[1, 1, 1, 1, 1, 1, 1, 1, 1, 1, 1, 1, 1, 1, 1, ...</td>\n",
       "      <td>ALL</td>\n",
       "      <td>OUT</td>\n",
       "      <td>[1, 1, 1, 1, 1, 1, 1, 1, 1, 0, 0, 0, 0, 0, 0, ...</td>\n",
       "      <td>3.0</td>\n",
       "      <td>5.501611e-118</td>\n",
       "      <td>0.546875</td>\n",
       "      <td>...</td>\n",
       "      <td>[1, 0, 0, 1, 0, 1, 1, 1, 1, 0, 1, 0, 1, 1, 1, ...</td>\n",
       "      <td>21</td>\n",
       "      <td>24.0</td>\n",
       "      <td>RS</td>\n",
       "      <td>ALL</td>\n",
       "      <td>St</td>\n",
       "      <td>GFR</td>\n",
       "      <td>St</td>\n",
       "      <td>FR</td>\n",
       "      <td>FR</td>\n",
       "    </tr>\n",
       "  </tbody>\n",
       "</table>\n",
       "<p>5 rows × 29 columns</p>\n",
       "</div>"
      ],
      "text/plain": [
       "      Dyad  Round      Player  \\\n",
       "0  140-615      1  140-615PL1   \n",
       "1  140-615      9  140-615PL1   \n",
       "2  140-615     10  140-615PL1   \n",
       "3  140-615     11  140-615PL1   \n",
       "4  140-615     39  140-615PL1   \n",
       "\n",
       "                                              Region Category CategoryGo  \\\n",
       "0  [0, 0, 1, 0, 0, 0, 0, 0, 0, 0, 0, 0, 0, 0, 1, ...       RS         RS   \n",
       "1  [0, 0, 0, 0, 0, 0, 0, 0, 0, 0, 0, 0, 0, 0, 0, ...       RS    NOTHING   \n",
       "2  [0, 0, 0, 0, 0, 0, 0, 0, 0, 0, 0, 0, 0, 0, 0, ...  NOTHING    NOTHING   \n",
       "3  [0, 0, 0, 0, 0, 0, 0, 0, 0, 0, 0, 0, 0, 0, 0, ...  NOTHING        ALL   \n",
       "4  [1, 1, 1, 1, 1, 1, 1, 1, 1, 1, 1, 1, 1, 1, 1, ...      ALL        OUT   \n",
       "\n",
       "                                            RegionGo  Score        S_score  \\\n",
       "0  [0, 0, 0, 0, 0, 0, 0, 0, 0, 0, 0, 0, 0, 0, 0, ...   23.0   3.975450e-31   \n",
       "1  [0, 0, 0, 0, 0, 0, 0, 0, 0, 0, 0, 0, 0, 0, 0, ...   27.0   9.357623e-14   \n",
       "2  [0, 0, 0, 0, 0, 0, 0, 0, 0, 0, 0, 0, 0, 0, 0, ...   32.0   1.000000e+00   \n",
       "3  [1, 1, 1, 1, 1, 1, 1, 1, 1, 1, 1, 1, 1, 1, 1, ...   32.0   1.000000e+00   \n",
       "4  [1, 1, 1, 1, 1, 1, 1, 1, 1, 0, 0, 0, 0, 0, 0, ...    3.0  5.501611e-118   \n",
       "\n",
       "    DLIndex  ...                                       Other_Region  \\\n",
       "0  0.609375  ...  [0, 0, 0, 0, 0, 0, 0, 0, 0, 1, 0, 0, 0, 0, 0, ...   \n",
       "1  0.828125  ...  [1, 1, 1, 1, 1, 1, 1, 1, 1, 1, 1, 1, 1, 1, 1, ...   \n",
       "2  0.421875  ...  [1, 1, 0, 0, 1, 0, 0, 0, 1, 0, 1, 0, 1, 0, 0, ...   \n",
       "3  0.531250  ...  [0, 1, 0, 1, 1, 1, 0, 0, 1, 0, 1, 1, 1, 1, 1, ...   \n",
       "4  0.546875  ...  [1, 0, 0, 1, 0, 1, 1, 1, 1, 0, 1, 0, 1, 1, 1, ...   \n",
       "\n",
       "   Similariy_other  Similariy_otherGo Category_other     Tipo   TipoGo Tipo2  \\\n",
       "0               13               16.0             RS       RS       RS    RS   \n",
       "1               16               21.0             RS       RS  NOTHING    RS   \n",
       "2               21               22.0             RS  NOTHING  NOTHING   GFR   \n",
       "3               22               21.0             RS  NOTHING      ALL   GFR   \n",
       "4               21               24.0             RS      ALL       St   GFR   \n",
       "\n",
       "  Tipo2Go  Tipo3 Tipo3Go  \n",
       "0      RS     RS      RS  \n",
       "1     GFR     RS      FR  \n",
       "2     GFR     FR      FR  \n",
       "3     GFR     FR      FR  \n",
       "4      St     FR      FR  \n",
       "\n",
       "[5 rows x 29 columns]"
      ]
     },
     "execution_count": 70,
     "metadata": {},
     "output_type": "execute_result"
    }
   ],
   "source": [
    "data['Keys'] = data.apply(lambda x: (x['Dyad'], x['Round']), axis=1)\n",
    "data['Overlap'] = data['Keys'].map(dict_overlap)\n",
    "data['DistO'] = data['Overlap'].apply(lambda x: minDistComp2Focal(x, complements))\n",
    "data.head()"
   ]
  },
  {
   "cell_type": "code",
   "execution_count": 81,
   "metadata": {},
   "outputs": [
    {
     "data": {
      "text/html": [
       "<div>\n",
       "<style scoped>\n",
       "    .dataframe tbody tr th:only-of-type {\n",
       "        vertical-align: middle;\n",
       "    }\n",
       "\n",
       "    .dataframe tbody tr th {\n",
       "        vertical-align: top;\n",
       "    }\n",
       "\n",
       "    .dataframe thead th {\n",
       "        text-align: right;\n",
       "    }\n",
       "</style>\n",
       "<table border=\"1\" class=\"dataframe\">\n",
       "  <thead>\n",
       "    <tr style=\"text-align: right;\">\n",
       "      <th></th>\n",
       "      <th>Dyad</th>\n",
       "      <th>Round</th>\n",
       "      <th>Player</th>\n",
       "      <th>Region</th>\n",
       "      <th>Category</th>\n",
       "      <th>CategoryGo</th>\n",
       "      <th>RegionGo</th>\n",
       "      <th>Score</th>\n",
       "      <th>S_score</th>\n",
       "      <th>DLIndex</th>\n",
       "      <th>...</th>\n",
       "      <th>Similariy_otherGo</th>\n",
       "      <th>Category_other</th>\n",
       "      <th>Tipo</th>\n",
       "      <th>TipoGo</th>\n",
       "      <th>Tipo2</th>\n",
       "      <th>Tipo2Go</th>\n",
       "      <th>Tipo3</th>\n",
       "      <th>Tipo3Go</th>\n",
       "      <th>Tipo_other</th>\n",
       "      <th>Tipo_otherGo</th>\n",
       "    </tr>\n",
       "  </thead>\n",
       "  <tbody>\n",
       "    <tr>\n",
       "      <th>0</th>\n",
       "      <td>140-615</td>\n",
       "      <td>1</td>\n",
       "      <td>140-615PL1</td>\n",
       "      <td>[0, 0, 1, 0, 0, 0, 0, 0, 0, 0, 0, 0, 0, 0, 1, ...</td>\n",
       "      <td>RS</td>\n",
       "      <td>RS</td>\n",
       "      <td>[0, 0, 0, 0, 0, 0, 0, 0, 0, 0, 0, 0, 0, 0, 0, ...</td>\n",
       "      <td>23.0</td>\n",
       "      <td>3.975450e-31</td>\n",
       "      <td>0.609375</td>\n",
       "      <td>...</td>\n",
       "      <td>16.0</td>\n",
       "      <td>RS</td>\n",
       "      <td>RS</td>\n",
       "      <td>RS</td>\n",
       "      <td>RS</td>\n",
       "      <td>RS</td>\n",
       "      <td>RS</td>\n",
       "      <td>RS</td>\n",
       "      <td>RS</td>\n",
       "      <td>RS</td>\n",
       "    </tr>\n",
       "    <tr>\n",
       "      <th>1</th>\n",
       "      <td>140-615</td>\n",
       "      <td>9</td>\n",
       "      <td>140-615PL1</td>\n",
       "      <td>[0, 0, 0, 0, 0, 0, 0, 0, 0, 0, 0, 0, 0, 0, 0, ...</td>\n",
       "      <td>RS</td>\n",
       "      <td>NOTHING</td>\n",
       "      <td>[0, 0, 0, 0, 0, 0, 0, 0, 0, 0, 0, 0, 0, 0, 0, ...</td>\n",
       "      <td>27.0</td>\n",
       "      <td>9.357623e-14</td>\n",
       "      <td>0.828125</td>\n",
       "      <td>...</td>\n",
       "      <td>21.0</td>\n",
       "      <td>RS</td>\n",
       "      <td>RS</td>\n",
       "      <td>NOTHING</td>\n",
       "      <td>RS</td>\n",
       "      <td>GFR</td>\n",
       "      <td>RS</td>\n",
       "      <td>FR</td>\n",
       "      <td>RS</td>\n",
       "      <td>RS</td>\n",
       "    </tr>\n",
       "    <tr>\n",
       "      <th>2</th>\n",
       "      <td>140-615</td>\n",
       "      <td>10</td>\n",
       "      <td>140-615PL1</td>\n",
       "      <td>[0, 0, 0, 0, 0, 0, 0, 0, 0, 0, 0, 0, 0, 0, 0, ...</td>\n",
       "      <td>NOTHING</td>\n",
       "      <td>NOTHING</td>\n",
       "      <td>[0, 0, 0, 0, 0, 0, 0, 0, 0, 0, 0, 0, 0, 0, 0, ...</td>\n",
       "      <td>32.0</td>\n",
       "      <td>1.000000e+00</td>\n",
       "      <td>0.421875</td>\n",
       "      <td>...</td>\n",
       "      <td>22.0</td>\n",
       "      <td>RS</td>\n",
       "      <td>NOTHING</td>\n",
       "      <td>NOTHING</td>\n",
       "      <td>GFR</td>\n",
       "      <td>GFR</td>\n",
       "      <td>FR</td>\n",
       "      <td>FR</td>\n",
       "      <td>RS</td>\n",
       "      <td>RS</td>\n",
       "    </tr>\n",
       "    <tr>\n",
       "      <th>3</th>\n",
       "      <td>140-615</td>\n",
       "      <td>11</td>\n",
       "      <td>140-615PL1</td>\n",
       "      <td>[0, 0, 0, 0, 0, 0, 0, 0, 0, 0, 0, 0, 0, 0, 0, ...</td>\n",
       "      <td>NOTHING</td>\n",
       "      <td>ALL</td>\n",
       "      <td>[1, 1, 1, 1, 1, 1, 1, 1, 1, 1, 1, 1, 1, 1, 1, ...</td>\n",
       "      <td>32.0</td>\n",
       "      <td>1.000000e+00</td>\n",
       "      <td>0.531250</td>\n",
       "      <td>...</td>\n",
       "      <td>21.0</td>\n",
       "      <td>RS</td>\n",
       "      <td>NOTHING</td>\n",
       "      <td>ALL</td>\n",
       "      <td>GFR</td>\n",
       "      <td>GFR</td>\n",
       "      <td>FR</td>\n",
       "      <td>FR</td>\n",
       "      <td>RS</td>\n",
       "      <td>RS</td>\n",
       "    </tr>\n",
       "    <tr>\n",
       "      <th>4</th>\n",
       "      <td>140-615</td>\n",
       "      <td>39</td>\n",
       "      <td>140-615PL1</td>\n",
       "      <td>[1, 1, 1, 1, 1, 1, 1, 1, 1, 1, 1, 1, 1, 1, 1, ...</td>\n",
       "      <td>ALL</td>\n",
       "      <td>OUT</td>\n",
       "      <td>[1, 1, 1, 1, 1, 1, 1, 1, 1, 0, 0, 0, 0, 0, 0, ...</td>\n",
       "      <td>3.0</td>\n",
       "      <td>5.501611e-118</td>\n",
       "      <td>0.546875</td>\n",
       "      <td>...</td>\n",
       "      <td>24.0</td>\n",
       "      <td>RS</td>\n",
       "      <td>ALL</td>\n",
       "      <td>St</td>\n",
       "      <td>GFR</td>\n",
       "      <td>St</td>\n",
       "      <td>FR</td>\n",
       "      <td>FR</td>\n",
       "      <td>RS</td>\n",
       "      <td>RS</td>\n",
       "    </tr>\n",
       "  </tbody>\n",
       "</table>\n",
       "<p>5 rows × 31 columns</p>\n",
       "</div>"
      ],
      "text/plain": [
       "      Dyad  Round      Player  \\\n",
       "0  140-615      1  140-615PL1   \n",
       "1  140-615      9  140-615PL1   \n",
       "2  140-615     10  140-615PL1   \n",
       "3  140-615     11  140-615PL1   \n",
       "4  140-615     39  140-615PL1   \n",
       "\n",
       "                                              Region Category CategoryGo  \\\n",
       "0  [0, 0, 1, 0, 0, 0, 0, 0, 0, 0, 0, 0, 0, 0, 1, ...       RS         RS   \n",
       "1  [0, 0, 0, 0, 0, 0, 0, 0, 0, 0, 0, 0, 0, 0, 0, ...       RS    NOTHING   \n",
       "2  [0, 0, 0, 0, 0, 0, 0, 0, 0, 0, 0, 0, 0, 0, 0, ...  NOTHING    NOTHING   \n",
       "3  [0, 0, 0, 0, 0, 0, 0, 0, 0, 0, 0, 0, 0, 0, 0, ...  NOTHING        ALL   \n",
       "4  [1, 1, 1, 1, 1, 1, 1, 1, 1, 1, 1, 1, 1, 1, 1, ...      ALL        OUT   \n",
       "\n",
       "                                            RegionGo  Score        S_score  \\\n",
       "0  [0, 0, 0, 0, 0, 0, 0, 0, 0, 0, 0, 0, 0, 0, 0, ...   23.0   3.975450e-31   \n",
       "1  [0, 0, 0, 0, 0, 0, 0, 0, 0, 0, 0, 0, 0, 0, 0, ...   27.0   9.357623e-14   \n",
       "2  [0, 0, 0, 0, 0, 0, 0, 0, 0, 0, 0, 0, 0, 0, 0, ...   32.0   1.000000e+00   \n",
       "3  [1, 1, 1, 1, 1, 1, 1, 1, 1, 1, 1, 1, 1, 1, 1, ...   32.0   1.000000e+00   \n",
       "4  [1, 1, 1, 1, 1, 1, 1, 1, 1, 0, 0, 0, 0, 0, 0, ...    3.0  5.501611e-118   \n",
       "\n",
       "    DLIndex  ...  Similariy_otherGo  Category_other     Tipo   TipoGo Tipo2  \\\n",
       "0  0.609375  ...               16.0              RS       RS       RS    RS   \n",
       "1  0.828125  ...               21.0              RS       RS  NOTHING    RS   \n",
       "2  0.421875  ...               22.0              RS  NOTHING  NOTHING   GFR   \n",
       "3  0.531250  ...               21.0              RS  NOTHING      ALL   GFR   \n",
       "4  0.546875  ...               24.0              RS      ALL       St   GFR   \n",
       "\n",
       "   Tipo2Go Tipo3 Tipo3Go  Tipo_other Tipo_otherGo  \n",
       "0       RS    RS      RS          RS           RS  \n",
       "1      GFR    RS      FR          RS           RS  \n",
       "2      GFR    FR      FR          RS           RS  \n",
       "3      GFR    FR      FR          RS           RS  \n",
       "4       St    FR      FR          RS           RS  \n",
       "\n",
       "[5 rows x 31 columns]"
      ]
     },
     "execution_count": 81,
     "metadata": {},
     "output_type": "execute_result"
    }
   ],
   "source": [
    "dict_other = {}\n",
    "for key, grp in data.groupby(['Dyad', 'Round'])[['Player', 'Region']]:\n",
    "    players = grp['Player'].unique().tolist()\n",
    "    reg1 = grp[grp['Player']==players[0]]['Region'].to_list()[0]\n",
    "    reg2 = grp[grp['Player']==players[1]]['Region'].to_list()[0]\n",
    "    dict_other[(key[0], key[1], players[0])] = reg2\n",
    "    dict_other[(key[0], key[1], players[1])] = reg1\n",
    "\n",
    "data['Keys'] = data.apply(lambda x: (x['Dyad'], x['Round'], x['Player']), axis=1)\n",
    "data['Other_Region'] = data['Keys'].map(dict_other)\n",
    "data['Similariy_other'] = data['Other_Region'].apply(lambda x: minDist2Focal(x, focals))\n",
    "data['Similariy_otherGo'] = data.groupby(['Dyad', 'Player'])['Similariy_other'].transform('shift', -1)\n",
    "data['Category_other'] = data['Other_Region'].apply(lambda x: classify_region(x, focals, 5))\n",
    "data['Tipo_other'] = data['Category_other'].map(dict_tipo_region)\n",
    "data['Tipo_otherGo'] = data.groupby(['Dyad', 'Player'])['Tipo_other'].transform('shift', -1)\n",
    "data.head()"
   ]
  },
  {
   "cell_type": "code",
   "execution_count": 82,
   "metadata": {},
   "outputs": [
    {
     "data": {
      "text/plain": [
       "<matplotlib.axes._subplots.AxesSubplot at 0x1239b4790>"
      ]
     },
     "execution_count": 82,
     "metadata": {},
     "output_type": "execute_result"
    },
    {
     "data": {
      "image/png": "[encoded data removed]",
      "text/plain": [
       "<Figure size 432x288 with 1 Axes>"
      ]
     },
     "metadata": {
      "needs_background": "light"
     },
     "output_type": "display_data"
    }
   ],
   "source": [
    "data_leap = data[(data['Similarity'] > 10) & (data['CategoryGo']!='RS') & (data['Similariy_other'] < 6) & (data['Category_other']!=data['Category'])]\n",
    "sns.scatterplot(x='DistO', y='SimilarityGo', data=data_leap)"
   ]
  },
  {
   "cell_type": "code",
   "execution_count": 83,
   "metadata": {},
   "outputs": [
    {
     "data": {
      "image/png": "[encoded data removed]",
      "text/plain": [
       "<Figure size 1152x1152 with 4 Axes>"
      ]
     },
     "metadata": {
      "needs_background": "light"
     },
     "output_type": "display_data"
    }
   ],
   "source": [
    "fig=plt.figure(figsize=(16, 16))\n",
    "contador = 1\n",
    "for c, grp in data_leap.groupby('TipoGo'):\n",
    "    ax=plt.subplot(3,3,contador)\n",
    "    ax.set_title(c)\n",
    "    sns.scatterplot(x='DistO', y='SimilarityGo', data=grp)\n",
    "    contador += 1"
   ]
  },
  {
   "cell_type": "code",
   "execution_count": 84,
   "metadata": {},
   "outputs": [
    {
     "data": {
      "text/plain": [
       "<matplotlib.axes._subplots.AxesSubplot at 0x123ddd970>"
      ]
     },
     "execution_count": 84,
     "metadata": {},
     "output_type": "execute_result"
    },
    {
     "data": {
      "image/png": "[encoded data removed]",
      "text/plain": [
       "<Figure size 432x288 with 1 Axes>"
      ]
     },
     "metadata": {
      "needs_background": "light"
     },
     "output_type": "display_data"
    }
   ],
   "source": [
    "sns.scatterplot(x='Similarity', y='SimilarityGo', data=data_leap)"
   ]
  },
  {
   "cell_type": "code",
   "execution_count": 85,
   "metadata": {},
   "outputs": [
    {
     "data": {
      "image/png": "[encoded data removed]",
      "text/plain": [
       "<Figure size 1152x1152 with 4 Axes>"
      ]
     },
     "metadata": {
      "needs_background": "light"
     },
     "output_type": "display_data"
    }
   ],
   "source": [
    "fig=plt.figure(figsize=(16, 16))\n",
    "contador = 1\n",
    "for c, grp in data_leap.groupby('TipoGo'):\n",
    "    ax=plt.subplot(3,3,contador)\n",
    "    ax.set_title(c)\n",
    "    sns.scatterplot(x='Similarity', y='SimilarityGo', data=grp)\n",
    "    contador += 1"
   ]
  },
  {
   "cell_type": "code",
   "execution_count": 86,
   "metadata": {},
   "outputs": [
    {
     "name": "stdout",
     "output_type": "stream",
     "text": [
      "                            OLS Regression Results                            \n",
      "==============================================================================\n",
      "Dep. Variable:           SimilarityGo   R-squared:                       0.040\n",
      "Model:                            OLS   Adj. R-squared:                 -0.033\n",
      "Method:                 Least Squares   F-statistic:                    0.5464\n",
      "Date:                Tue, 06 Oct 2020   Prob (F-statistic):              0.586\n",
      "Time:                        21:51:06   Log-Likelihood:                -47.067\n",
      "No. Observations:                  29   AIC:                             100.1\n",
      "Df Residuals:                      26   BIC:                             104.2\n",
      "Df Model:                           2                                         \n",
      "Covariance Type:            nonrobust                                         \n",
      "==============================================================================\n",
      "                 coef    std err          t      P>|t|      [0.025      0.975]\n",
      "------------------------------------------------------------------------------\n",
      "Intercept      1.8041      1.209      1.492      0.148      -0.681       4.289\n",
      "Similarity    -0.0603      0.059     -1.029      0.313      -0.181       0.060\n",
      "DistO          0.0021      0.045      0.047      0.963      -0.090       0.094\n",
      "==============================================================================\n",
      "Omnibus:                        5.774   Durbin-Watson:                   2.135\n",
      "Prob(Omnibus):                  0.056   Jarque-Bera (JB):                5.358\n",
      "Skew:                           1.038   Prob(JB):                       0.0686\n",
      "Kurtosis:                       2.652   Cond. No.                         137.\n",
      "==============================================================================\n",
      "\n",
      "Warnings:\n",
      "[1] Standard Errors assume that the covariance matrix of the errors is correctly specified.\n"
     ]
    }
   ],
   "source": [
    "mod = smf.ols(formula='SimilarityGo ~ Similarity + DistO', data=data_leap)\n",
    "res = mod.fit()\n",
    "print(res.summary())"
   ]
  },
  {
   "cell_type": "code",
   "execution_count": 87,
   "metadata": {},
   "outputs": [
    {
     "data": {
      "text/plain": [
       "<matplotlib.axes._subplots.AxesSubplot at 0x125e08430>"
      ]
     },
     "execution_count": 87,
     "metadata": {},
     "output_type": "execute_result"
    },
    {
     "data": {
      "image/png": "[encoded data removed]",
      "text/plain": [
       "<Figure size 432x288 with 1 Axes>"
      ]
     },
     "metadata": {
      "needs_background": "light"
     },
     "output_type": "display_data"
    }
   ],
   "source": [
    "sns.scatterplot(x='Similariy_other', y='SimilarityGo', data=data_leap)"
   ]
  },
  {
   "cell_type": "code",
   "execution_count": 88,
   "metadata": {},
   "outputs": [
    {
     "data": {
      "image/png": "[encoded data removed]",
      "text/plain": [
       "<Figure size 1152x1152 with 4 Axes>"
      ]
     },
     "metadata": {
      "needs_background": "light"
     },
     "output_type": "display_data"
    }
   ],
   "source": [
    "fig=plt.figure(figsize=(16, 16))\n",
    "contador = 1\n",
    "for c, grp in data_leap.groupby('TipoGo'):\n",
    "    ax=plt.subplot(3,3,contador)\n",
    "    ax.set_title(c)\n",
    "    sns.scatterplot(x='Similariy_other', y='SimilarityGo', data=grp)\n",
    "    contador += 1"
   ]
  },
  {
   "cell_type": "code",
   "execution_count": 89,
   "metadata": {},
   "outputs": [
    {
     "name": "stdout",
     "output_type": "stream",
     "text": [
      "                            OLS Regression Results                            \n",
      "==============================================================================\n",
      "Dep. Variable:           SimilarityGo   R-squared:                       0.257\n",
      "Model:                            OLS   Adj. R-squared:                  0.255\n",
      "Method:                 Least Squares   F-statistic:                     198.8\n",
      "Date:                Tue, 06 Oct 2020   Prob (F-statistic):           6.96e-75\n",
      "Time:                        21:51:07   Log-Likelihood:                -4060.9\n",
      "No. Observations:                1154   AIC:                             8128.\n",
      "Df Residuals:                    1151   BIC:                             8143.\n",
      "Df Model:                           2                                         \n",
      "Covariance Type:            nonrobust                                         \n",
      "===================================================================================\n",
      "                      coef    std err          t      P>|t|      [0.025      0.975]\n",
      "-----------------------------------------------------------------------------------\n",
      "Intercept           5.0916      1.099      4.635      0.000       2.936       7.247\n",
      "Similariy_other     0.5033      0.025     19.933      0.000       0.454       0.553\n",
      "DistO              -0.0643      0.041     -1.557      0.120      -0.145       0.017\n",
      "==============================================================================\n",
      "Omnibus:                      114.930   Durbin-Watson:                   0.960\n",
      "Prob(Omnibus):                  0.000   Jarque-Bera (JB):              148.629\n",
      "Skew:                           0.834   Prob(JB):                     5.32e-33\n",
      "Kurtosis:                       3.557   Cond. No.                         126.\n",
      "==============================================================================\n",
      "\n",
      "Warnings:\n",
      "[1] Standard Errors assume that the covariance matrix of the errors is correctly specified.\n"
     ]
    }
   ],
   "source": [
    "mod = smf.ols(formula='SimilarityGo ~ Similariy_other + DistO', data=data)\n",
    "res = mod.fit()\n",
    "print(res.summary())"
   ]
  },
  {
   "cell_type": "code",
   "execution_count": 90,
   "metadata": {},
   "outputs": [
    {
     "data": {
      "text/html": [
       "<div>\n",
       "<style scoped>\n",
       "    .dataframe tbody tr th:only-of-type {\n",
       "        vertical-align: middle;\n",
       "    }\n",
       "\n",
       "    .dataframe tbody tr th {\n",
       "        vertical-align: top;\n",
       "    }\n",
       "\n",
       "    .dataframe thead th {\n",
       "        text-align: right;\n",
       "    }\n",
       "</style>\n",
       "<table border=\"1\" class=\"dataframe\">\n",
       "  <thead>\n",
       "    <tr style=\"text-align: right;\">\n",
       "      <th></th>\n",
       "      <th>Similarity</th>\n",
       "      <th>Similariy_other</th>\n",
       "      <th>DistO</th>\n",
       "    </tr>\n",
       "  </thead>\n",
       "  <tbody>\n",
       "    <tr>\n",
       "      <th>Similarity</th>\n",
       "      <td>1.000000</td>\n",
       "      <td>0.537538</td>\n",
       "      <td>0.042415</td>\n",
       "    </tr>\n",
       "    <tr>\n",
       "      <th>Similariy_other</th>\n",
       "      <td>0.537538</td>\n",
       "      <td>1.000000</td>\n",
       "      <td>0.042415</td>\n",
       "    </tr>\n",
       "    <tr>\n",
       "      <th>DistO</th>\n",
       "      <td>0.042415</td>\n",
       "      <td>0.042415</td>\n",
       "      <td>1.000000</td>\n",
       "    </tr>\n",
       "  </tbody>\n",
       "</table>\n",
       "</div>"
      ],
      "text/plain": [
       "                 Similarity  Similariy_other     DistO\n",
       "Similarity         1.000000         0.537538  0.042415\n",
       "Similariy_other    0.537538         1.000000  0.042415\n",
       "DistO              0.042415         0.042415  1.000000"
      ]
     },
     "execution_count": 90,
     "metadata": {},
     "output_type": "execute_result"
    }
   ],
   "source": [
    "columnas = ['Similarity', 'Similariy_other', 'DistO']\n",
    "data[columnas].corr()"
   ]
  },
  {
   "cell_type": "code",
   "execution_count": 96,
   "metadata": {},
   "outputs": [
    {
     "data": {
      "text/html": [
       "<div>\n",
       "<style scoped>\n",
       "    .dataframe tbody tr th:only-of-type {\n",
       "        vertical-align: middle;\n",
       "    }\n",
       "\n",
       "    .dataframe tbody tr th {\n",
       "        vertical-align: top;\n",
       "    }\n",
       "\n",
       "    .dataframe thead th {\n",
       "        text-align: right;\n",
       "    }\n",
       "</style>\n",
       "<table border=\"1\" class=\"dataframe\">\n",
       "  <thead>\n",
       "    <tr style=\"text-align: right;\">\n",
       "      <th></th>\n",
       "      <th>CategoryGo</th>\n",
       "      <th>Similarity</th>\n",
       "      <th>Category_other</th>\n",
       "      <th>DistO</th>\n",
       "    </tr>\n",
       "  </thead>\n",
       "  <tbody>\n",
       "    <tr>\n",
       "      <th>366</th>\n",
       "      <td>BOTTOM</td>\n",
       "      <td>19</td>\n",
       "      <td>TOP</td>\n",
       "      <td>29</td>\n",
       "    </tr>\n",
       "    <tr>\n",
       "      <th>466</th>\n",
       "      <td>LEFT</td>\n",
       "      <td>13</td>\n",
       "      <td>RIGHT</td>\n",
       "      <td>19</td>\n",
       "    </tr>\n",
       "    <tr>\n",
       "      <th>820</th>\n",
       "      <td>TOP</td>\n",
       "      <td>11</td>\n",
       "      <td>BOTTOM</td>\n",
       "      <td>25</td>\n",
       "    </tr>\n",
       "    <tr>\n",
       "      <th>1084</th>\n",
       "      <td>BOTTOM</td>\n",
       "      <td>19</td>\n",
       "      <td>TOP</td>\n",
       "      <td>27</td>\n",
       "    </tr>\n",
       "    <tr>\n",
       "      <th>1099</th>\n",
       "      <td>TOP</td>\n",
       "      <td>14</td>\n",
       "      <td>BOTTOM</td>\n",
       "      <td>28</td>\n",
       "    </tr>\n",
       "  </tbody>\n",
       "</table>\n",
       "</div>"
      ],
      "text/plain": [
       "     CategoryGo  Similarity Category_other  DistO\n",
       "366      BOTTOM          19            TOP     29\n",
       "466        LEFT          13          RIGHT     19\n",
       "820         TOP          11         BOTTOM     25\n",
       "1084     BOTTOM          19            TOP     27\n",
       "1099        TOP          14         BOTTOM     28"
      ]
     },
     "execution_count": 96,
     "metadata": {},
     "output_type": "execute_result"
    }
   ],
   "source": [
    "data_leap_FR = data_leap[(data_leap['TipoGo']=='FR') & (data_leap['Tipo_other']=='FR')]\n",
    "data_leap_FR[['CategoryGo', 'Similarity', 'Category_other', 'DistO']]"
   ]
  },
  {
   "cell_type": "code",
   "execution_count": 110,
   "metadata": {},
   "outputs": [
    {
     "data": {
      "image/png": "[encoded data removed]",
      "text/plain": [
       "<Figure size 1152x1152 with 4 Axes>"
      ]
     },
     "metadata": {
      "needs_background": "light"
     },
     "output_type": "display_data"
    }
   ],
   "source": [
    "d_aux = data[(data['Category_other']!='RS') & (data['Similarity'] > 7)]\n",
    "fig=plt.figure(figsize=(16, 16))\n",
    "contador = 1\n",
    "for c, grp in d_aux.groupby('Tipo_other'):\n",
    "    ax=plt.subplot(3,3,contador)\n",
    "    ax.set_title(c)\n",
    "    sns.countplot(x='TipoGo', data=grp)\n",
    "    contador += 1    \n"
   ]
  },
  {
   "cell_type": "code",
   "execution_count": null,
   "metadata": {},
   "outputs": [],
   "source": []
  }
 ],
 "metadata": {
  "kernelspec": {
   "display_name": "Python 3",
   "language": "python",
   "name": "python3"
  },
  "language_info": {
   "codemirror_mode": {
    "name": "ipython",
    "version": 3
   },
   "file_extension": ".py",
   "mimetype": "text/x-python",
   "name": "python",
   "nbconvert_exporter": "python",
   "pygments_lexer": "ipython3",
   "version": "3.8.3"
  }
 },
 "nbformat": 4,
 "nbformat_minor": 4
}
