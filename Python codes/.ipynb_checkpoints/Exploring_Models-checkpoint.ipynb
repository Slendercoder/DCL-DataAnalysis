{
 "cells": [
  {
   "cell_type": "code",
   "execution_count": 146,
   "metadata": {},
   "outputs": [],
   "source": [
    "import pandas as pd\n",
    "import seaborn as sns\n",
    "from FRA import *\n",
    "from random import choices"
   ]
  },
  {
   "cell_type": "code",
   "execution_count": 4,
   "metadata": {},
   "outputs": [],
   "source": [
    "focals, strategies = create_regions_and_strategies(8)"
   ]
  },
  {
   "cell_type": "code",
   "execution_count": 137,
   "metadata": {},
   "outputs": [],
   "source": [
    "def Focal(r):\n",
    "    return 1 if r != 'RS' else 0\n",
    "\n",
    "def I(r, f):\n",
    "    return 1 if r == f else 0\n",
    "\n",
    "def probabilities(region, score, parameters, regionsCoded, DEB=False):\n",
    "    \n",
    "    bias = parameters[0]\n",
    "    alpha = parameters[1]\n",
    "    beta = parameters[2]\n",
    "    gamma = parameters[3]\n",
    "    tolerancia = 9\n",
    "    r = classify_region(region, regionsCoded, tolerancia)\n",
    "    n = numberRegion(r)\n",
    "    if DEB:\n",
    "        print(\"Region:\", r, \"Number:\", n)\n",
    "    \n",
    "    if n > 0:\n",
    "        attracts = [0] + [bias + alpha * sigmoid(score, beta, gamma) * I(n, i) for i in range(1,9)]\n",
    "        attracts[0] = 1 - sum(attracts)\n",
    "    else:\n",
    "        attracts = [0.76, 0.07, 0.08, 0.02, 0.02, 0.02, 0.02, 0.01, 0.0]\n",
    "    return attracts\n"
   ]
  },
  {
   "cell_type": "code",
   "execution_count": 138,
   "metadata": {},
   "outputs": [
    {
     "name": "stdout",
     "output_type": "stream",
     "text": [
      "[0, 1, 1, 0, 0, 0, 1, 1]\n",
      "[1, 1, 1, 1, 1, 1, 1, 1]\n",
      "[0, 1, 1, 0, 0, 1, 1, 1]\n",
      "[1, 0, 1, 1, 1, 1, 1, 1]\n",
      "[0, 1, 1, 1, 1, 1, 1, 1]\n",
      "[1, 1, 1, 0, 1, 1, 0, 1]\n",
      "[1, 0, 1, 1, 1, 0, 0, 1]\n",
      "[1, 1, 1, 1, 1, 1, 1, 1]\n"
     ]
    }
   ],
   "source": [
    "region = code2Vector(shaky_hand(strategies[1],15), 8)\n",
    "imprime_region(region)"
   ]
  },
  {
   "cell_type": "code",
   "execution_count": 141,
   "metadata": {},
   "outputs": [
    {
     "name": "stdout",
     "output_type": "stream",
     "text": [
      "Region: RS Number: 0\n",
      "[0.76, 0.07, 0.08, 0.02, 0.02, 0.02, 0.02, 0.01, 0.0]\n"
     ]
    }
   ],
   "source": [
    "parameters = [0.76398169, 1, 0.70608277, 33.60850005]\n",
    "p = probabilities(region, 20, parameters, focals, DEB=True)\n",
    "print(p)"
   ]
  },
  {
   "cell_type": "code",
   "execution_count": 149,
   "metadata": {},
   "outputs": [
    {
     "name": "stdout",
     "output_type": "stream",
     "text": [
      "[0], [0], [0], [0], [0], [0], [0], [0], [0], [1], [0], [0], [0], [2], [0], [0], [0], [0], [0], [2], [0], [2], [4], [0], [0], [0], [1], [3], [0], [0], [0], [0], [0], [0], [0], [7], [0], [0], [0], [0], [0], [0], [0], [0], [0], [0], [0], [0], [0], [0], [0], [0], [2], [0], [0], [0], [0], [1], [0], [0], [0], [0], [0], [2], [0], [0], [0], [0], [0], [0], [2], [0], [0], [0], [0], [0], [6], [0], [0], [0], [4], [0], [0], [0], [0], [0], [0], [0], [0], [1], [6], [0], [0], [0], [0], [1], [0], [0], [4], [0], "
     ]
    }
   ],
   "source": [
    "for i in range(100):\n",
    "    print(choices(range(9), weights=p), end=\", \")"
   ]
  },
  {
   "cell_type": "code",
   "execution_count": null,
   "metadata": {},
   "outputs": [],
   "source": [
    "def estimate_strategy(region, score, overlap, pars, focals, DEB=False):\n",
    "    parameters = [0.764, 1, 0.706, 33.61]\n",
    "    bias = parameters[0]\n",
    "    alpha = parameters[1]\n",
    "    beta = parameters[2]\n",
    "    gamma = parameters[3]\n",
    "    tolerancia = 5\n",
    "    r = classify_region(region, regionsCoded, tolerancia)\n",
    "    n = numberRegion(r)\n",
    "    if DEB:\n",
    "        print(\"Region:\", r, \"Number:\", n)\n",
    "    \n",
    "    if n > 0:\n",
    "        attracts = [0] + [bias + alpha * sigmoid(score, beta, gamma) * I(n, i) for i in range(1,9)]\n",
    "        attracts[0] = 1 - sum(attracts)\n",
    "    else:\n",
    "        attracts = [0.76, 0.07, 0.08, 0.02, 0.02, 0.02, 0.02, 0.01, 0.0]\n",
    "    return choices(range(9), weights=p)"
   ]
  }
 ],
 "metadata": {
  "kernelspec": {
   "display_name": "Python 3",
   "language": "python",
   "name": "python3"
  },
  "language_info": {
   "codemirror_mode": {
    "name": "ipython",
    "version": 3
   },
   "file_extension": ".py",
   "mimetype": "text/x-python",
   "name": "python",
   "nbconvert_exporter": "python",
   "pygments_lexer": "ipython3",
   "version": "3.8.3"
  }
 },
 "nbformat": 4,
 "nbformat_minor": 4
}
