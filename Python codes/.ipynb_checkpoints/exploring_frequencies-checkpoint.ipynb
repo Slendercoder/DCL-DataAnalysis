{
 "cells": [
  {
   "cell_type": "code",
   "execution_count": 1,
   "metadata": {
    "colab": {},
    "colab_type": "code",
    "id": "LYl-YZ3GnR1e"
   },
   "outputs": [],
   "source": [
    "import pandas as pd\n",
    "import numpy as np\n",
    "\n",
    "from FRA import *"
   ]
  },
  {
   "cell_type": "code",
   "execution_count": 2,
   "metadata": {},
   "outputs": [],
   "source": [
    "'''\n",
    "def find_no_ws(score, df):\n",
    "    df1 = df.query('Score==@score')[['Category', 'Score', 'RegionGo']]\n",
    "    df1 = df1.query('Category!=\"RS\"')\n",
    "    df1['No_WS'] = df1['Category'] != df1['RegionGo']\n",
    "    print(df1['No_WS'].value_counts())\n",
    "    print(\"WS:\", str(np.round(df1['No_WS'].value_counts()[0]/df1['No_WS'].value_counts().sum()*100, 2)) + \"%\")\n",
    "    return df1\n",
    "'''\n",
    "\n",
    "def find_no_ws(score, df):\n",
    "    df1 = df.query('Score_LAG1==@score')[['Category_LAG1', 'Score_LAG1', 'Category']]\n",
    "    df1 = df1.query('Category_LAG1!=\"RS\"')\n",
    "    df1['No_WS'] = df1['Category_LAG1'] != df1['Category']\n",
    "    print(df1['No_WS'].value_counts())\n",
    "    print(\"WS:\", str(np.round(df1['No_WS'].value_counts()[0]/df1['No_WS'].value_counts().sum()*100, 2)) + \"%\")\n",
    "    return df1"
   ]
  },
  {
   "cell_type": "code",
   "execution_count": 7,
   "metadata": {},
   "outputs": [],
   "source": [
    "df = pd.read_csv('../Data/humans_only_absent.csv')\n",
    "df2 = pd.read_csv('../Data/high_performing_human_dyads.csv')"
   ]
  },
  {
   "cell_type": "code",
   "execution_count": 8,
   "metadata": {},
   "outputs": [
    {
     "name": "stdout",
     "output_type": "stream",
     "text": [
      "************\n",
      "Score: 29\n",
      "False    19\n",
      "True      4\n",
      "Name: No_WS, dtype: int64\n",
      "WS: 82.61%\n",
      "************\n",
      "Score: 30\n",
      "False    17\n",
      "True      6\n",
      "Name: No_WS, dtype: int64\n",
      "WS: 73.91%\n",
      "************\n",
      "Score: 31\n",
      "False    68\n",
      "True      2\n",
      "Name: No_WS, dtype: int64\n",
      "WS: 97.14%\n",
      "************\n",
      "Score: 32\n",
      "False    364\n",
      "True      14\n",
      "Name: No_WS, dtype: int64\n",
      "WS: 96.3%\n"
     ]
    },
    {
     "name": "stderr",
     "output_type": "stream",
     "text": [
      "<ipython-input-2-379b141fd254>:14: SettingWithCopyWarning: \n",
      "A value is trying to be set on a copy of a slice from a DataFrame.\n",
      "Try using .loc[row_indexer,col_indexer] = value instead\n",
      "\n",
      "See the caveats in the documentation: https://pandas.pydata.org/pandas-docs/stable/user_guide/indexing.html#returning-a-view-versus-a-copy\n",
      "  df1['No_WS'] = df1['Category_LAG1'] != df1['Category']\n"
     ]
    }
   ],
   "source": [
    "for s in [29, 30, 31, 32]:\n",
    "    print(\"************\")\n",
    "    print(\"Score:\", s)\n",
    "    find_no_ws(s, df)"
   ]
  },
  {
   "cell_type": "code",
   "execution_count": 9,
   "metadata": {},
   "outputs": [
    {
     "name": "stdout",
     "output_type": "stream",
     "text": [
      "************\n",
      "Score: 29\n",
      "False    17\n",
      "True      2\n",
      "Name: No_WS, dtype: int64\n",
      "WS: 89.47%\n",
      "************\n",
      "Score: 30\n",
      "False    17\n",
      "True      4\n",
      "Name: No_WS, dtype: int64\n",
      "WS: 80.95%\n",
      "************\n",
      "Score: 31\n",
      "False    68\n",
      "True      2\n",
      "Name: No_WS, dtype: int64\n",
      "WS: 97.14%\n",
      "************\n",
      "Score: 32\n",
      "False    310\n",
      "True       8\n",
      "Name: No_WS, dtype: int64\n",
      "WS: 97.48%\n"
     ]
    },
    {
     "name": "stderr",
     "output_type": "stream",
     "text": [
      "<ipython-input-2-379b141fd254>:14: SettingWithCopyWarning: \n",
      "A value is trying to be set on a copy of a slice from a DataFrame.\n",
      "Try using .loc[row_indexer,col_indexer] = value instead\n",
      "\n",
      "See the caveats in the documentation: https://pandas.pydata.org/pandas-docs/stable/user_guide/indexing.html#returning-a-view-versus-a-copy\n",
      "  df1['No_WS'] = df1['Category_LAG1'] != df1['Category']\n"
     ]
    }
   ],
   "source": [
    "for s in [29, 30, 31, 32]:\n",
    "    print(\"************\")\n",
    "    print(\"Score:\", s)\n",
    "    find_no_ws(s, df2)"
   ]
  },
  {
   "cell_type": "code",
   "execution_count": 11,
   "metadata": {},
   "outputs": [
    {
     "name": "stdout",
     "output_type": "stream",
     "text": [
      "(8, 162)\n"
     ]
    },
    {
     "data": {
      "text/html": [
       "<div>\n",
       "<style scoped>\n",
       "    .dataframe tbody tr th:only-of-type {\n",
       "        vertical-align: middle;\n",
       "    }\n",
       "\n",
       "    .dataframe tbody tr th {\n",
       "        vertical-align: top;\n",
       "    }\n",
       "\n",
       "    .dataframe thead th {\n",
       "        text-align: right;\n",
       "    }\n",
       "</style>\n",
       "<table border=\"1\" class=\"dataframe\">\n",
       "  <thead>\n",
       "    <tr style=\"text-align: right;\">\n",
       "      <th></th>\n",
       "      <th>Score_LAG1</th>\n",
       "      <th>Category_LAG1</th>\n",
       "      <th>Similarity_LAG1</th>\n",
       "      <th>Category</th>\n",
       "      <th>Similarity</th>\n",
       "    </tr>\n",
       "  </thead>\n",
       "  <tbody>\n",
       "    <tr>\n",
       "      <th>114</th>\n",
       "      <td>32.0</td>\n",
       "      <td>NOTHING</td>\n",
       "      <td>1.000000</td>\n",
       "      <td>RS</td>\n",
       "      <td>0.392857</td>\n",
       "    </tr>\n",
       "    <tr>\n",
       "      <th>200</th>\n",
       "      <td>32.0</td>\n",
       "      <td>BOTTOM</td>\n",
       "      <td>0.968750</td>\n",
       "      <td>RS</td>\n",
       "      <td>0.812500</td>\n",
       "    </tr>\n",
       "    <tr>\n",
       "      <th>321</th>\n",
       "      <td>32.0</td>\n",
       "      <td>NOTHING</td>\n",
       "      <td>0.035714</td>\n",
       "      <td>RS</td>\n",
       "      <td>0.289474</td>\n",
       "    </tr>\n",
       "    <tr>\n",
       "      <th>335</th>\n",
       "      <td>32.0</td>\n",
       "      <td>NOTHING</td>\n",
       "      <td>1.000000</td>\n",
       "      <td>ALL</td>\n",
       "      <td>1.000000</td>\n",
       "    </tr>\n",
       "    <tr>\n",
       "      <th>417</th>\n",
       "      <td>32.0</td>\n",
       "      <td>NOTHING</td>\n",
       "      <td>1.000000</td>\n",
       "      <td>ALL</td>\n",
       "      <td>1.000000</td>\n",
       "    </tr>\n",
       "    <tr>\n",
       "      <th>496</th>\n",
       "      <td>32.0</td>\n",
       "      <td>TOP</td>\n",
       "      <td>1.000000</td>\n",
       "      <td>RS</td>\n",
       "      <td>0.888889</td>\n",
       "    </tr>\n",
       "    <tr>\n",
       "      <th>594</th>\n",
       "      <td>32.0</td>\n",
       "      <td>NOTHING</td>\n",
       "      <td>1.000000</td>\n",
       "      <td>RS</td>\n",
       "      <td>0.565217</td>\n",
       "    </tr>\n",
       "    <tr>\n",
       "      <th>611</th>\n",
       "      <td>32.0</td>\n",
       "      <td>TOP</td>\n",
       "      <td>1.000000</td>\n",
       "      <td>RS</td>\n",
       "      <td>0.562500</td>\n",
       "    </tr>\n",
       "  </tbody>\n",
       "</table>\n",
       "</div>"
      ],
      "text/plain": [
       "     Score_LAG1 Category_LAG1  Similarity_LAG1 Category  Similarity\n",
       "114        32.0       NOTHING         1.000000       RS    0.392857\n",
       "200        32.0        BOTTOM         0.968750       RS    0.812500\n",
       "321        32.0       NOTHING         0.035714       RS    0.289474\n",
       "335        32.0       NOTHING         1.000000      ALL    1.000000\n",
       "417        32.0       NOTHING         1.000000      ALL    1.000000\n",
       "496        32.0           TOP         1.000000       RS    0.888889\n",
       "594        32.0       NOTHING         1.000000       RS    0.565217\n",
       "611        32.0           TOP         1.000000       RS    0.562500"
      ]
     },
     "execution_count": 11,
     "metadata": {},
     "output_type": "execute_result"
    }
   ],
   "source": [
    "df3 = df2.query('Score_LAG1==32')\n",
    "df3 = df3.query('Category_LAG1!=\"RS\"')\n",
    "df3['No_WS'] = df3['Category'] != df3['Category_LAG1']\n",
    "df3 = df3[df3['No_WS']]\n",
    "print(df3.shape)\n",
    "df3[['Score_LAG1', 'Category_LAG1', 'Similarity_LAG1', 'Category', 'Similarity']]"
   ]
  },
  {
   "cell_type": "code",
   "execution_count": 9,
   "metadata": {},
   "outputs": [],
   "source": [
    "def crea_region(r, cols):\n",
    "    \n",
    "    lista = []\n",
    "    for c in cols:\n",
    "        lista.append(r[c])\n",
    "    \n",
    "    return lista"
   ]
  },
  {
   "cell_type": "code",
   "execution_count": 10,
   "metadata": {},
   "outputs": [],
   "source": [
    "cols = ['a' + str(i+1) + str(j+1) for i in range(8) for j in range(8)]\n",
    "df3['region'] = df3.apply(lambda x: crea_region(x, cols), axis=1)"
   ]
  },
  {
   "cell_type": "code",
   "execution_count": 11,
   "metadata": {},
   "outputs": [],
   "source": [
    "regiones, estrategias = create_regions_and_strategies(8)"
   ]
  },
  {
   "cell_type": "code",
   "execution_count": 89,
   "metadata": {},
   "outputs": [],
   "source": [
    "TOLERANCIA = 0.9\n",
    "\n",
    "def classify_region(r, regiones, TOLERANCIA):\n",
    "    \n",
    "    # Check if close to NOTHING\n",
    "    if np.array(r).sum() < 3:\n",
    "        return('NOTHING')\n",
    "    \n",
    "    sims = [0]*8\n",
    "    for i, k in enumerate(regiones):\n",
    "        sims[i] = sim_consist(r, k)\n",
    "        \n",
    "    # sims_print = [\"%.3f\" % v for v in sims]\n",
    "    # print('similarities:\\n', sims)\n",
    "\n",
    "    valor = np.max(np.array(sims))\n",
    "    indiceMax = np.argmax(np.array(sims))\n",
    "    print('valor:', valor, 'vale?:', valor >= TOLERANCIA)\n",
    "\n",
    "    if valor >= TOLERANCIA:\n",
    "        reg = nameRegion(indiceMax + 1)\n",
    "        return(reg)\n",
    "    else:\n",
    "        return('RS')\n"
   ]
  },
  {
   "cell_type": "code",
   "execution_count": 90,
   "metadata": {},
   "outputs": [
    {
     "name": "stdout",
     "output_type": "stream",
     "text": [
      "[1, 1, 1, 1, 0, 0, 0, 0]\n",
      "[0, 0, 0, 1, 0, 0, 0, 0]\n",
      "[1, 1, 1, 1, 0, 0, 0, 0]\n",
      "[1, 1, 1, 1, 0, 0, 0, 0]\n",
      "[1, 1, 1, 1, 0, 0, 0, 0]\n",
      "[1, 1, 1, 1, 0, 0, 0, 0]\n",
      "[1, 1, 1, 1, 0, 0, 0, 0]\n",
      "[1, 1, 1, 1, 0, 0, 0, 0]\n",
      "\n",
      "[1, 1, 1, 1, 0, 0, 0, 0]\n",
      "[1, 1, 1, 1, 0, 0, 0, 0]\n",
      "[1, 1, 1, 1, 0, 0, 0, 0]\n",
      "[1, 1, 1, 1, 0, 0, 0, 0]\n",
      "[1, 1, 1, 1, 0, 0, 0, 0]\n",
      "[1, 1, 1, 1, 0, 0, 0, 0]\n",
      "[1, 1, 1, 1, 0, 0, 0, 0]\n",
      "[1, 1, 1, 1, 0, 0, 0, 0]\n"
     ]
    },
    {
     "data": {
      "text/plain": [
       "0.90625"
      ]
     },
     "execution_count": 90,
     "metadata": {},
     "output_type": "execute_result"
    }
   ],
   "source": [
    "region = df3['region'].iloc[10]\n",
    "imprime_region(region)\n",
    "print(\"\")\n",
    "imprime_region(regiones[4])\n",
    "sim_consist(region, regiones[4])"
   ]
  },
  {
   "cell_type": "code",
   "execution_count": 91,
   "metadata": {},
   "outputs": [
    {
     "name": "stdout",
     "output_type": "stream",
     "text": [
      "valor: 0.90625 vale?: True\n"
     ]
    },
    {
     "data": {
      "text/plain": [
       "'LEFT'"
      ]
     },
     "execution_count": 91,
     "metadata": {},
     "output_type": "execute_result"
    }
   ],
   "source": [
    "classify_region(region, regiones, TOLERANCIA)\n",
    "#maxSim2Focal(region, 8)"
   ]
  },
  {
   "cell_type": "code",
   "execution_count": null,
   "metadata": {},
   "outputs": [],
   "source": []
  }
 ],
 "metadata": {
  "colab": {
   "name": "Untitled1.ipynb",
   "provenance": []
  },
  "kernelspec": {
   "display_name": "Python 3",
   "language": "python",
   "name": "python3"
  },
  "language_info": {
   "codemirror_mode": {
    "name": "ipython",
    "version": 3
   },
   "file_extension": ".py",
   "mimetype": "text/x-python",
   "name": "python",
   "nbconvert_exporter": "python",
   "pygments_lexer": "ipython3",
   "version": "3.8.3"
  }
 },
 "nbformat": 4,
 "nbformat_minor": 1
}
