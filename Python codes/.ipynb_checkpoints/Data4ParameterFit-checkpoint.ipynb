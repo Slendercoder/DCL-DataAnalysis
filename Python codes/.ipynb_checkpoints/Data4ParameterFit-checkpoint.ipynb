{
 "cells": [
  {
   "cell_type": "code",
   "execution_count": 1,
   "metadata": {},
   "outputs": [],
   "source": [
    "import pandas as pd\n",
    "from FRA import *"
   ]
  },
  {
   "cell_type": "code",
   "execution_count": null,
   "metadata": {},
   "outputs": [],
   "source": [
    "data = pd.read_csv('../Data/performances.csv')\n",
    "columnas = ['Is_there', 'Dyad', 'Player', 'Round', 'Score']\n",
    "columnas1 = columnas + ['a'+str(i)+str(j) for i in range(1,9) for j in range(1,9)]\n",
    "data = data[columnas1]\n",
    "data['Player'] = data['Player'].apply(lambda x: x[-3:])\n",
    "data.head(2)"
   ]
  },
  {
   "cell_type": "code",
   "execution_count": null,
   "metadata": {},
   "outputs": [],
   "source": [
    "def region2vec(x):\n",
    "    columnas = ['a'+str(i)+str(j) for i in range(1,9) for j in range(1,9)]\n",
    "    vector = []\n",
    "    for c in columnas:\n",
    "        vector.append(x[c])\n",
    "    return vector\n",
    "\n",
    "data['Absent1'] = data.groupby(['Dyad', 'Player'])['Is_there'].transform('shift',-1)\n",
    "data['Region'] = data.apply(region2vec, axis=1)\n",
    "data['RegionGo'] = data.groupby(['Dyad', 'Player'])['Region'].transform('shift',-1)\n",
    "data = data[['Absent1'] + columnas + ['Region', 'RegionGo']]\n",
    "data.head(2)"
   ]
  },
  {
   "cell_type": "code",
   "execution_count": null,
   "metadata": {},
   "outputs": [],
   "source": [
    "data.shape"
   ]
  },
  {
   "cell_type": "code",
   "execution_count": null,
   "metadata": {},
   "outputs": [],
   "source": [
    "df = data[(data['Absent1']=='Unicorn_Absent') & (data['Is_there']=='Unicorn_Absent')]\n",
    "df.shape"
   ]
  },
  {
   "cell_type": "code",
   "execution_count": null,
   "metadata": {},
   "outputs": [],
   "source": [
    "df.sort_values(by=['Dyad', 'Round', 'Player'], inplace=True)\n",
    "df['Region2'] = df.groupby(['Dyad', 'Round'])['Region'].transform('shift',1)\n",
    "df['Region1'] = df.groupby(['Dyad', 'Round'])['Region'].transform('shift',-1)\n",
    "df['RegionOtro'] = df.apply(lambda x: x['Region1'] if x['Player']=='PL1' else x['Region2'], axis=1)\n",
    "df['Overlap'] = df.apply(lambda x: np.multiply(x['Region'], x['RegionOtro']), axis=1)\n",
    "del df['Region1']\n",
    "del df['Region2']\n",
    "del df['RegionOtro']\n",
    "df.head()"
   ]
  },
  {
   "cell_type": "code",
   "execution_count": null,
   "metadata": {},
   "outputs": [],
   "source": [
    "focals, estrategias = create_regions_and_strategies(8)\n",
    "df['Sims'] = df['RegionGo'].apply(lambda x: [sim_consist(x,r) for r in focals])\n",
    "df.head(2)"
   ]
  },
  {
   "cell_type": "code",
   "execution_count": null,
   "metadata": {},
   "outputs": [],
   "source": [
    "df.to_csv('../Data/humans_absent.csv', index=False)"
   ]
  },
  {
   "cell_type": "code",
   "execution_count": null,
   "metadata": {},
   "outputs": [],
   "source": [
    "pl = 0\n",
    "modelParameters = [0.01, 0.01, 0.01, 0.01, \n",
    "                   1, 100, 31.5,\n",
    "                   1, 100, 0.9,\n",
    "                   1, 100, 0.9\n",
    "                  ]\n",
    "Num_Loc = 8\n",
    "df_aux = df.copy()\n",
    "df_aux['attract'] = df_aux.apply(lambda x: attractiveness(\n",
    "    x['Region'], x['Score'], x['Overlap'], \n",
    "    pl, modelParameters, Num_Loc, focals), axis = 1\n",
    "                        )\n",
    "df_aux.head()"
   ]
  },
  {
   "cell_type": "code",
   "execution_count": null,
   "metadata": {},
   "outputs": [],
   "source": [
    "df_aux['Err_L2'] = (df_aux['Sims'] - df_aux['attract'])**2\n",
    "df_aux['Err_L2'] = df_aux['Err_L2'].apply(lambda x: np.sum(x))\n",
    "df_aux.head()"
   ]
  },
  {
   "cell_type": "code",
   "execution_count": null,
   "metadata": {},
   "outputs": [],
   "source": [
    "def err_l2(df, modelParameters):\n",
    "    pl = 0\n",
    "    Num_Loc = 8\n",
    "    df['attract'] = df.apply(lambda x: attractiveness(\n",
    "                            x['Region'], x['Score'], x['Overlap'], \n",
    "                            pl, modelParameters, Num_Loc, focals), \n",
    "                            axis = 1)\n",
    "    df['Err_L2'] = (df['Sims'] - df['attract'])**2\n",
    "    df['Err_L2'] = df['Err_L2'].apply(lambda x: np.sum(x))\n",
    "    return df['Err_L2'].sum()"
   ]
  },
  {
   "cell_type": "code",
   "execution_count": null,
   "metadata": {},
   "outputs": [],
   "source": [
    "err_l2(df, modelParameters)"
   ]
  }
 ],
 "metadata": {
  "kernelspec": {
   "display_name": "Python 3",
   "language": "python",
   "name": "python3"
  },
  "language_info": {
   "codemirror_mode": {
    "name": "ipython",
    "version": 3
   },
   "file_extension": ".py",
   "mimetype": "text/x-python",
   "name": "python",
   "nbconvert_exporter": "python",
   "pygments_lexer": "ipython3",
   "version": "3.8.3"
  }
 },
 "nbformat": 4,
 "nbformat_minor": 4
}
