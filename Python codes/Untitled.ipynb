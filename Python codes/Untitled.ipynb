{
 "cells": [
  {
   "cell_type": "code",
   "execution_count": 24,
   "metadata": {},
   "outputs": [],
   "source": [
    "import FRA\n",
    "import numpy as np\n",
    "import matplotlib.pyplot as plt\n",
    "\n",
    "regions, strategies = FRA.create_regions_and_strategies(Num_Loc)\n",
    "nombres = [FRA.nameRegion(x) for x in range(9)]"
   ]
  },
  {
   "cell_type": "code",
   "execution_count": 87,
   "metadata": {},
   "outputs": [],
   "source": [
    "def strategy_to_region(s, Num_Loc):\n",
    "    \n",
    "    r = [0] * Num_Loc*Num_Loc\n",
    "    for x in s:\n",
    "        r[x] = 1\n",
    "    \n",
    "    return r\n",
    "\n",
    "def DLindex(r1, r2):\n",
    "    \n",
    "    overlap = np.multiply(r1, r2)\n",
    "    total = [1 if ((r1[x]==1) or (r2[x]==1)) else 0 for x in range(len(r1))]\n",
    "    return (np.sum(total) - np.sum(overlap))/64"
   ]
  },
  {
   "cell_type": "code",
   "execution_count": null,
   "metadata": {},
   "outputs": [],
   "source": []
  },
  {
   "cell_type": "markdown",
   "metadata": {},
   "source": [
    "**Fitted parameters**"
   ]
  },
  {
   "cell_type": "code",
   "execution_count": 103,
   "metadata": {},
   "outputs": [],
   "source": [
    "Num_Loc = 8\n",
    "modelParameters = [0.063, 0.035, 0.006, 0.002, \\\n",
    "                   10.106, 100, 30,\\\n",
    "                   0.485, 100, 0.978\n",
    "                  ]\n",
    "modelParameters += modelParameters"
   ]
  },
  {
   "cell_type": "markdown",
   "metadata": {},
   "source": [
    "**Doubled parameters**"
   ]
  },
  {
   "cell_type": "code",
   "execution_count": 83,
   "metadata": {},
   "outputs": [],
   "source": [
    "Num_Loc = 8\n",
    "modelParameters = [0.126, 0.07, 0.012, 0.004, \\\n",
    "                   20.212, 100, 30,\\\n",
    "                   0.97, 100, 0.978\n",
    "                  ]\n",
    "modelParameters += modelParameters"
   ]
  },
  {
   "cell_type": "markdown",
   "metadata": {},
   "source": [
    "**Choose player2's region**"
   ]
  },
  {
   "cell_type": "code",
   "execution_count": 89,
   "metadata": {},
   "outputs": [],
   "source": [
    "region_ply2 = \"RIGHT\"\n",
    "j = FRA.numberRegion(region_ply2)\n",
    "r2 = regions[j - 1]"
   ]
  },
  {
   "cell_type": "markdown",
   "metadata": {},
   "source": [
    "**Choose player1's region**"
   ]
  },
  {
   "cell_type": "code",
   "execution_count": 69,
   "metadata": {},
   "outputs": [],
   "source": [
    "region_ply1 = \"TOP\"\n",
    "i = FRA.numberRegion(region_ply1)\n",
    "r1 = regions[i - 1]"
   ]
  },
  {
   "cell_type": "markdown",
   "metadata": {},
   "source": [
    "**Random player2's region**"
   ]
  },
  {
   "cell_type": "code",
   "execution_count": 54,
   "metadata": {},
   "outputs": [],
   "source": [
    "r2 = FRA.new_random_strategy(Num_Loc)\n",
    "r2 = strategy_to_region(r2, Num_Loc)\n",
    "#FRA.imprime_region(r2)"
   ]
  },
  {
   "cell_type": "markdown",
   "metadata": {},
   "source": [
    "**Random player1's region**"
   ]
  },
  {
   "cell_type": "code",
   "execution_count": 80,
   "metadata": {},
   "outputs": [],
   "source": [
    "r1 = FRA.new_random_strategy(Num_Loc)\n",
    "r1 = strategy_to_region(r1, Num_Loc)\n",
    "i = 0\n",
    "#FRA.imprime_region(r1)"
   ]
  },
  {
   "cell_type": "code",
   "execution_count": 106,
   "metadata": {},
   "outputs": [
    {
     "data": {
      "image/png": "[encoded data removed]",
      "text/plain": [
       "<Figure size 432x288 with 2 Axes>"
      ]
     },
     "metadata": {
      "needs_background": "light"
     },
     "output_type": "display_data"
    }
   ],
   "source": [
    "FRA.dibuja_regiones(r1, r2, Num_Loc, \"\")"
   ]
  },
  {
   "cell_type": "code",
   "execution_count": 105,
   "metadata": {},
   "outputs": [
    {
     "data": {
      "text/plain": [
       "<BarContainer object of 9 artists>"
      ]
     },
     "execution_count": 105,
     "metadata": {},
     "output_type": "execute_result"
    },
    {
     "data": {
      "image/png": "[encoded data removed]",
      "text/plain": [
       "<Figure size 720x288 with 1 Axes>"
      ]
     },
     "metadata": {
      "needs_background": "light"
     },
     "output_type": "display_data"
    }
   ],
   "source": [
    "overlap = np.multiply(r1, r2)\n",
    "score = 32 - np.sum(overlap)\n",
    "probs = FRA.probabilities(r1, i, score, overlap, 1, modelParameters, Num_Loc)\n",
    "# probs = FRA.probabilities(r2, j, score, overlap, 1, modelParameters, Num_Loc)\n",
    "fig, ax = plt.subplots(figsize=(10,4))\n",
    "plt.bar(nombres, probs)"
   ]
  },
  {
   "cell_type": "code",
   "execution_count": 94,
   "metadata": {},
   "outputs": [
    {
     "data": {
      "text/plain": [
       "0.53125"
      ]
     },
     "execution_count": 94,
     "metadata": {},
     "output_type": "execute_result"
    }
   ],
   "source": [
    "DLindex(r1, r2)"
   ]
  }
 ],
 "metadata": {
  "kernelspec": {
   "display_name": "Python 3",
   "language": "python",
   "name": "python3"
  },
  "language_info": {
   "codemirror_mode": {
    "name": "ipython",
    "version": 3
   },
   "file_extension": ".py",
   "mimetype": "text/x-python",
   "name": "python",
   "nbconvert_exporter": "python",
   "pygments_lexer": "ipython3",
   "version": "3.8.3"
  }
 },
 "nbformat": 4,
 "nbformat_minor": 4
}
