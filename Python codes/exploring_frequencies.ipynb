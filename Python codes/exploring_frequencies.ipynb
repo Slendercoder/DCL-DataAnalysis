{
 "cells": [
  {
   "cell_type": "code",
   "execution_count": 1,
   "metadata": {
    "colab": {},
    "colab_type": "code",
    "id": "LYl-YZ3GnR1e"
   },
   "outputs": [],
   "source": [
    "import pandas as pd\n",
    "import numpy as np\n",
    "\n",
    "from FRA import *"
   ]
  },
  {
   "cell_type": "code",
   "execution_count": 2,
   "metadata": {},
   "outputs": [
    {
     "data": {
      "text/plain": [
       "'\\ndef find_no_ws(score, df):\\n    df1 = df.query(\\'Score_LAG1==@score\\')[[\\'Category_LAG1\\', \\'Score_LAG1\\', \\'Category\\']]\\n    df1 = df1.query(\\'Category_LAG1!=\"RS\"\\')\\n    df1[\\'No_WS\\'] = df1[\\'Category_LAG1\\'] != df1[\\'Category\\']\\n    print(df1[\\'No_WS\\'].value_counts())\\n    print(\"WS:\", str(np.round(df1[\\'No_WS\\'].value_counts()[0]/df1[\\'No_WS\\'].value_counts().sum()*100, 2)) + \"%\")\\n    return df1\\n'"
      ]
     },
     "execution_count": 2,
     "metadata": {},
     "output_type": "execute_result"
    }
   ],
   "source": [
    "def find_no_ws(score, df):\n",
    "    df1 = df.query('Score==@score')[['Category', 'Score', 'RegionGo']]\n",
    "    df1 = df1.query('Category!=\"RS\"')\n",
    "    df1['No_WS'] = df1['Category'] != df1['RegionGo']\n",
    "    print(df1['No_WS'].value_counts())\n",
    "    print(\"WS:\", str(np.round(df1['No_WS'].value_counts()[0]/df1['No_WS'].value_counts().sum()*100, 2)) + \"%\")\n",
    "    return df1\n",
    "'''\n",
    "def find_no_ws(score, df):\n",
    "    df1 = df.query('Score_LAG1==@score')[['Category_LAG1', 'Score_LAG1', 'Category']]\n",
    "    df1 = df1.query('Category_LAG1!=\"RS\"')\n",
    "    df1['No_WS'] = df1['Category_LAG1'] != df1['Category']\n",
    "    print(df1['No_WS'].value_counts())\n",
    "    print(\"WS:\", str(np.round(df1['No_WS'].value_counts()[0]/df1['No_WS'].value_counts().sum()*100, 2)) + \"%\")\n",
    "    return df1\n",
    "'''"
   ]
  },
  {
   "cell_type": "code",
   "execution_count": 13,
   "metadata": {},
   "outputs": [],
   "source": [
    "df = pd.read_csv('../Data/humans_only_absent.csv')\n",
    "# df2 = pd.read_csv('../Data/high_performing_human_dyads.csv')\n",
    "df2 = pd.read_csv('../Data/humans_only_absent_perfect.csv')"
   ]
  },
  {
   "cell_type": "code",
   "execution_count": 4,
   "metadata": {},
   "outputs": [
    {
     "name": "stdout",
     "output_type": "stream",
     "text": [
      "************\n",
      "Score: 29\n",
      "False    15\n",
      "True      5\n",
      "Name: No_WS, dtype: int64\n",
      "WS: 75.0%\n",
      "************\n",
      "Score: 30\n",
      "False    20\n",
      "True      7\n",
      "Name: No_WS, dtype: int64\n",
      "WS: 74.07%\n",
      "************\n",
      "Score: 31\n",
      "False    65\n",
      "True      4\n",
      "Name: No_WS, dtype: int64\n",
      "WS: 94.2%\n",
      "************\n",
      "Score: 32\n",
      "False    397\n",
      "True      12\n",
      "Name: No_WS, dtype: int64\n",
      "WS: 97.07%\n"
     ]
    },
    {
     "name": "stderr",
     "output_type": "stream",
     "text": [
      "<ipython-input-2-6c24b2e4dee1>:4: SettingWithCopyWarning: \n",
      "A value is trying to be set on a copy of a slice from a DataFrame.\n",
      "Try using .loc[row_indexer,col_indexer] = value instead\n",
      "\n",
      "See the caveats in the documentation: https://pandas.pydata.org/pandas-docs/stable/user_guide/indexing.html#returning-a-view-versus-a-copy\n",
      "  df1['No_WS'] = df1['Category'] != df1['RegionGo']\n"
     ]
    }
   ],
   "source": [
    "for s in [29, 30, 31, 32]:\n",
    "    print(\"************\")\n",
    "    print(\"Score:\", s)\n",
    "    find_no_ws(s, df)"
   ]
  },
  {
   "cell_type": "code",
   "execution_count": 14,
   "metadata": {},
   "outputs": [
    {
     "name": "stdout",
     "output_type": "stream",
     "text": [
      "************\n",
      "Score: 29\n",
      "False    15\n",
      "True      5\n",
      "Name: No_WS, dtype: int64\n",
      "WS: 75.0%\n",
      "************\n",
      "Score: 30\n",
      "False    20\n",
      "True      7\n",
      "Name: No_WS, dtype: int64\n",
      "WS: 74.07%\n",
      "************\n",
      "Score: 31\n",
      "False    65\n",
      "Name: No_WS, dtype: int64\n",
      "WS: 100.0%\n",
      "************\n",
      "Score: 32\n",
      "False    397\n",
      "Name: No_WS, dtype: int64\n",
      "WS: 100.0%\n"
     ]
    },
    {
     "name": "stderr",
     "output_type": "stream",
     "text": [
      "<ipython-input-2-6c24b2e4dee1>:4: SettingWithCopyWarning: \n",
      "A value is trying to be set on a copy of a slice from a DataFrame.\n",
      "Try using .loc[row_indexer,col_indexer] = value instead\n",
      "\n",
      "See the caveats in the documentation: https://pandas.pydata.org/pandas-docs/stable/user_guide/indexing.html#returning-a-view-versus-a-copy\n",
      "  df1['No_WS'] = df1['Category'] != df1['RegionGo']\n"
     ]
    }
   ],
   "source": [
    "for s in [29, 30, 31, 32]:\n",
    "    print(\"************\")\n",
    "    print(\"Score:\", s)\n",
    "    find_no_ws(s, df2)"
   ]
  },
  {
   "cell_type": "code",
   "execution_count": 10,
   "metadata": {},
   "outputs": [
    {
     "name": "stdout",
     "output_type": "stream",
     "text": [
      "(16, 162)\n"
     ]
    },
    {
     "data": {
      "text/html": [
       "<div>\n",
       "<style scoped>\n",
       "    .dataframe tbody tr th:only-of-type {\n",
       "        vertical-align: middle;\n",
       "    }\n",
       "\n",
       "    .dataframe tbody tr th {\n",
       "        vertical-align: top;\n",
       "    }\n",
       "\n",
       "    .dataframe thead th {\n",
       "        text-align: right;\n",
       "    }\n",
       "</style>\n",
       "<table border=\"1\" class=\"dataframe\">\n",
       "  <thead>\n",
       "    <tr style=\"text-align: right;\">\n",
       "      <th></th>\n",
       "      <th>Score</th>\n",
       "      <th>Category</th>\n",
       "      <th>Similarity</th>\n",
       "      <th>RegionGo</th>\n",
       "    </tr>\n",
       "  </thead>\n",
       "  <tbody>\n",
       "    <tr>\n",
       "      <th>90</th>\n",
       "      <td>31.0</td>\n",
       "      <td>ALL</td>\n",
       "      <td>1.000000</td>\n",
       "      <td>RS</td>\n",
       "    </tr>\n",
       "    <tr>\n",
       "      <th>164</th>\n",
       "      <td>31.0</td>\n",
       "      <td>NOTHING</td>\n",
       "      <td>0.031250</td>\n",
       "      <td>RS</td>\n",
       "    </tr>\n",
       "    <tr>\n",
       "      <th>277</th>\n",
       "      <td>32.0</td>\n",
       "      <td>NOTHING</td>\n",
       "      <td>1.000000</td>\n",
       "      <td>RS</td>\n",
       "    </tr>\n",
       "    <tr>\n",
       "      <th>312</th>\n",
       "      <td>32.0</td>\n",
       "      <td>ALL</td>\n",
       "      <td>1.000000</td>\n",
       "      <td>NOTHING</td>\n",
       "    </tr>\n",
       "    <tr>\n",
       "      <th>363</th>\n",
       "      <td>32.0</td>\n",
       "      <td>BOTTOM</td>\n",
       "      <td>0.968750</td>\n",
       "      <td>RS</td>\n",
       "    </tr>\n",
       "    <tr>\n",
       "      <th>367</th>\n",
       "      <td>32.0</td>\n",
       "      <td>BOTTOM</td>\n",
       "      <td>1.000000</td>\n",
       "      <td>RS</td>\n",
       "    </tr>\n",
       "    <tr>\n",
       "      <th>370</th>\n",
       "      <td>32.0</td>\n",
       "      <td>NOTHING</td>\n",
       "      <td>1.000000</td>\n",
       "      <td>RS</td>\n",
       "    </tr>\n",
       "    <tr>\n",
       "      <th>660</th>\n",
       "      <td>32.0</td>\n",
       "      <td>NOTHING</td>\n",
       "      <td>0.031250</td>\n",
       "      <td>RS</td>\n",
       "    </tr>\n",
       "    <tr>\n",
       "      <th>703</th>\n",
       "      <td>32.0</td>\n",
       "      <td>NOTHING</td>\n",
       "      <td>1.000000</td>\n",
       "      <td>BOTTOM</td>\n",
       "    </tr>\n",
       "    <tr>\n",
       "      <th>821</th>\n",
       "      <td>31.0</td>\n",
       "      <td>TOP</td>\n",
       "      <td>0.969697</td>\n",
       "      <td>RS</td>\n",
       "    </tr>\n",
       "    <tr>\n",
       "      <th>829</th>\n",
       "      <td>32.0</td>\n",
       "      <td>TOP</td>\n",
       "      <td>1.000000</td>\n",
       "      <td>RS</td>\n",
       "    </tr>\n",
       "    <tr>\n",
       "      <th>917</th>\n",
       "      <td>31.0</td>\n",
       "      <td>NOTHING</td>\n",
       "      <td>0.031250</td>\n",
       "      <td>RS</td>\n",
       "    </tr>\n",
       "    <tr>\n",
       "      <th>1044</th>\n",
       "      <td>32.0</td>\n",
       "      <td>NOTHING</td>\n",
       "      <td>0.071429</td>\n",
       "      <td>RS</td>\n",
       "    </tr>\n",
       "    <tr>\n",
       "      <th>1081</th>\n",
       "      <td>32.0</td>\n",
       "      <td>NOTHING</td>\n",
       "      <td>1.000000</td>\n",
       "      <td>RS</td>\n",
       "    </tr>\n",
       "    <tr>\n",
       "      <th>1170</th>\n",
       "      <td>32.0</td>\n",
       "      <td>NOTHING</td>\n",
       "      <td>0.035714</td>\n",
       "      <td>RS</td>\n",
       "    </tr>\n",
       "    <tr>\n",
       "      <th>1186</th>\n",
       "      <td>32.0</td>\n",
       "      <td>ALL</td>\n",
       "      <td>1.000000</td>\n",
       "      <td>RS</td>\n",
       "    </tr>\n",
       "  </tbody>\n",
       "</table>\n",
       "</div>"
      ],
      "text/plain": [
       "      Score Category  Similarity RegionGo\n",
       "90     31.0      ALL    1.000000       RS\n",
       "164    31.0  NOTHING    0.031250       RS\n",
       "277    32.0  NOTHING    1.000000       RS\n",
       "312    32.0      ALL    1.000000  NOTHING\n",
       "363    32.0   BOTTOM    0.968750       RS\n",
       "367    32.0   BOTTOM    1.000000       RS\n",
       "370    32.0  NOTHING    1.000000       RS\n",
       "660    32.0  NOTHING    0.031250       RS\n",
       "703    32.0  NOTHING    1.000000   BOTTOM\n",
       "821    31.0      TOP    0.969697       RS\n",
       "829    32.0      TOP    1.000000       RS\n",
       "917    31.0  NOTHING    0.031250       RS\n",
       "1044   32.0  NOTHING    0.071429       RS\n",
       "1081   32.0  NOTHING    1.000000       RS\n",
       "1170   32.0  NOTHING    0.035714       RS\n",
       "1186   32.0      ALL    1.000000       RS"
      ]
     },
     "execution_count": 10,
     "metadata": {},
     "output_type": "execute_result"
    }
   ],
   "source": [
    "df3 = df.query('(Score==31)|(Score==32)')\n",
    "df3 = df3.query('Category!=\"RS\"')\n",
    "df3['No_WS'] = df3['Category'] != df3['RegionGo']\n",
    "df3 = df3[df3['No_WS']]\n",
    "print(df3.shape)\n",
    "df4 = df3[['Score', 'Category', 'Similarity', 'RegionGo',]]\n",
    "df4"
   ]
  },
  {
   "cell_type": "code",
   "execution_count": 12,
   "metadata": {},
   "outputs": [],
   "source": [
    "mask_false = df4.index\n",
    "mask_true = [x for x in range(df.shape[0]) if x not in mask_false]\n",
    "df5 = df.iloc[mask_true]\n",
    "df5.to_csv('humans_only_absent_perfect.csv', index=False)"
   ]
  },
  {
   "cell_type": "code",
   "execution_count": 6,
   "metadata": {},
   "outputs": [],
   "source": [
    "def crea_region(r, cols):\n",
    "    \n",
    "    lista = []\n",
    "    for c in cols:\n",
    "        lista.append(r[c])\n",
    "    \n",
    "    return lista"
   ]
  },
  {
   "cell_type": "code",
   "execution_count": 7,
   "metadata": {},
   "outputs": [],
   "source": [
    "cols = ['a' + str(i+1) + str(j+1) for i in range(8) for j in range(8)]\n",
    "df3['region'] = df3.apply(lambda x: crea_region(x, cols), axis=1)"
   ]
  },
  {
   "cell_type": "code",
   "execution_count": 11,
   "metadata": {},
   "outputs": [],
   "source": [
    "regiones, estrategias = create_regions_and_strategies(8)"
   ]
  },
  {
   "cell_type": "code",
   "execution_count": 89,
   "metadata": {},
   "outputs": [],
   "source": [
    "TOLERANCIA = 0.9\n",
    "\n",
    "def classify_region(r, regiones, TOLERANCIA):\n",
    "    \n",
    "    # Check if close to NOTHING\n",
    "    if np.array(r).sum() < 3:\n",
    "        return('NOTHING')\n",
    "    \n",
    "    sims = [0]*8\n",
    "    for i, k in enumerate(regiones):\n",
    "        sims[i] = sim_consist(r, k)\n",
    "        \n",
    "    # sims_print = [\"%.3f\" % v for v in sims]\n",
    "    # print('similarities:\\n', sims)\n",
    "\n",
    "    valor = np.max(np.array(sims))\n",
    "    indiceMax = np.argmax(np.array(sims))\n",
    "    print('valor:', valor, 'vale?:', valor >= TOLERANCIA)\n",
    "\n",
    "    if valor >= TOLERANCIA:\n",
    "        reg = nameRegion(indiceMax + 1)\n",
    "        return(reg)\n",
    "    else:\n",
    "        return('RS')\n"
   ]
  },
  {
   "cell_type": "code",
   "execution_count": 6,
   "metadata": {},
   "outputs": [
    {
     "name": "stdout",
     "output_type": "stream",
     "text": [
      "(9, 162)\n"
     ]
    },
    {
     "data": {
      "text/html": [
       "<div>\n",
       "<style scoped>\n",
       "    .dataframe tbody tr th:only-of-type {\n",
       "        vertical-align: middle;\n",
       "    }\n",
       "\n",
       "    .dataframe tbody tr th {\n",
       "        vertical-align: top;\n",
       "    }\n",
       "\n",
       "    .dataframe thead th {\n",
       "        text-align: right;\n",
       "    }\n",
       "</style>\n",
       "<table border=\"1\" class=\"dataframe\">\n",
       "  <thead>\n",
       "    <tr style=\"text-align: right;\">\n",
       "      <th></th>\n",
       "      <th>Score</th>\n",
       "      <th>Category</th>\n",
       "      <th>Similarity</th>\n",
       "      <th>RegionGo</th>\n",
       "    </tr>\n",
       "  </thead>\n",
       "  <tbody>\n",
       "    <tr>\n",
       "      <th>113</th>\n",
       "      <td>32.0</td>\n",
       "      <td>NOTHING</td>\n",
       "      <td>1.00000</td>\n",
       "      <td>RS</td>\n",
       "    </tr>\n",
       "    <tr>\n",
       "      <th>148</th>\n",
       "      <td>32.0</td>\n",
       "      <td>ALL</td>\n",
       "      <td>1.00000</td>\n",
       "      <td>NOTHING</td>\n",
       "    </tr>\n",
       "    <tr>\n",
       "      <th>199</th>\n",
       "      <td>32.0</td>\n",
       "      <td>BOTTOM</td>\n",
       "      <td>0.96875</td>\n",
       "      <td>RS</td>\n",
       "    </tr>\n",
       "    <tr>\n",
       "      <th>203</th>\n",
       "      <td>32.0</td>\n",
       "      <td>BOTTOM</td>\n",
       "      <td>1.00000</td>\n",
       "      <td>RS</td>\n",
       "    </tr>\n",
       "    <tr>\n",
       "      <th>206</th>\n",
       "      <td>32.0</td>\n",
       "      <td>NOTHING</td>\n",
       "      <td>1.00000</td>\n",
       "      <td>RS</td>\n",
       "    </tr>\n",
       "    <tr>\n",
       "      <th>419</th>\n",
       "      <td>32.0</td>\n",
       "      <td>NOTHING</td>\n",
       "      <td>1.00000</td>\n",
       "      <td>BOTTOM</td>\n",
       "    </tr>\n",
       "    <tr>\n",
       "      <th>495</th>\n",
       "      <td>32.0</td>\n",
       "      <td>TOP</td>\n",
       "      <td>1.00000</td>\n",
       "      <td>RS</td>\n",
       "    </tr>\n",
       "    <tr>\n",
       "      <th>593</th>\n",
       "      <td>32.0</td>\n",
       "      <td>NOTHING</td>\n",
       "      <td>1.00000</td>\n",
       "      <td>RS</td>\n",
       "    </tr>\n",
       "    <tr>\n",
       "      <th>660</th>\n",
       "      <td>32.0</td>\n",
       "      <td>ALL</td>\n",
       "      <td>1.00000</td>\n",
       "      <td>RS</td>\n",
       "    </tr>\n",
       "  </tbody>\n",
       "</table>\n",
       "</div>"
      ],
      "text/plain": [
       "     Score Category  Similarity RegionGo\n",
       "113   32.0  NOTHING     1.00000       RS\n",
       "148   32.0      ALL     1.00000  NOTHING\n",
       "199   32.0   BOTTOM     0.96875       RS\n",
       "203   32.0   BOTTOM     1.00000       RS\n",
       "206   32.0  NOTHING     1.00000       RS\n",
       "419   32.0  NOTHING     1.00000   BOTTOM\n",
       "495   32.0      TOP     1.00000       RS\n",
       "593   32.0  NOTHING     1.00000       RS\n",
       "660   32.0      ALL     1.00000       RS"
      ]
     },
     "execution_count": 6,
     "metadata": {},
     "output_type": "execute_result"
    }
   ],
   "source": [
    "df3 = df2.query('Score==32')\n",
    "df3 = df3.query('Category!=\"RS\"')\n",
    "df3['No_WS'] = df3['Category'] != df3['RegionGo']\n",
    "df3 = df3[df3['No_WS']]\n",
    "print(df3.shape)\n",
    "df3[['Score', 'Category', 'Similarity', 'RegionGo',]]"
   ]
  },
  {
   "cell_type": "code",
   "execution_count": 11,
   "metadata": {},
   "outputs": [
    {
     "name": "stdout",
     "output_type": "stream",
     "text": [
      "(8, 162)\n"
     ]
    },
    {
     "data": {
      "text/html": [
       "<div>\n",
       "<style scoped>\n",
       "    .dataframe tbody tr th:only-of-type {\n",
       "        vertical-align: middle;\n",
       "    }\n",
       "\n",
       "    .dataframe tbody tr th {\n",
       "        vertical-align: top;\n",
       "    }\n",
       "\n",
       "    .dataframe thead th {\n",
       "        text-align: right;\n",
       "    }\n",
       "</style>\n",
       "<table border=\"1\" class=\"dataframe\">\n",
       "  <thead>\n",
       "    <tr style=\"text-align: right;\">\n",
       "      <th></th>\n",
       "      <th>Score_LAG1</th>\n",
       "      <th>Category_LAG1</th>\n",
       "      <th>Similarity_LAG1</th>\n",
       "      <th>Category</th>\n",
       "      <th>Similarity</th>\n",
       "    </tr>\n",
       "  </thead>\n",
       "  <tbody>\n",
       "    <tr>\n",
       "      <th>114</th>\n",
       "      <td>32.0</td>\n",
       "      <td>NOTHING</td>\n",
       "      <td>1.000000</td>\n",
       "      <td>RS</td>\n",
       "      <td>0.392857</td>\n",
       "    </tr>\n",
       "    <tr>\n",
       "      <th>200</th>\n",
       "      <td>32.0</td>\n",
       "      <td>BOTTOM</td>\n",
       "      <td>0.968750</td>\n",
       "      <td>RS</td>\n",
       "      <td>0.812500</td>\n",
       "    </tr>\n",
       "    <tr>\n",
       "      <th>321</th>\n",
       "      <td>32.0</td>\n",
       "      <td>NOTHING</td>\n",
       "      <td>0.035714</td>\n",
       "      <td>RS</td>\n",
       "      <td>0.289474</td>\n",
       "    </tr>\n",
       "    <tr>\n",
       "      <th>335</th>\n",
       "      <td>32.0</td>\n",
       "      <td>NOTHING</td>\n",
       "      <td>1.000000</td>\n",
       "      <td>ALL</td>\n",
       "      <td>1.000000</td>\n",
       "    </tr>\n",
       "    <tr>\n",
       "      <th>417</th>\n",
       "      <td>32.0</td>\n",
       "      <td>NOTHING</td>\n",
       "      <td>1.000000</td>\n",
       "      <td>ALL</td>\n",
       "      <td>1.000000</td>\n",
       "    </tr>\n",
       "    <tr>\n",
       "      <th>496</th>\n",
       "      <td>32.0</td>\n",
       "      <td>TOP</td>\n",
       "      <td>1.000000</td>\n",
       "      <td>RS</td>\n",
       "      <td>0.888889</td>\n",
       "    </tr>\n",
       "    <tr>\n",
       "      <th>594</th>\n",
       "      <td>32.0</td>\n",
       "      <td>NOTHING</td>\n",
       "      <td>1.000000</td>\n",
       "      <td>RS</td>\n",
       "      <td>0.565217</td>\n",
       "    </tr>\n",
       "    <tr>\n",
       "      <th>611</th>\n",
       "      <td>32.0</td>\n",
       "      <td>TOP</td>\n",
       "      <td>1.000000</td>\n",
       "      <td>RS</td>\n",
       "      <td>0.562500</td>\n",
       "    </tr>\n",
       "  </tbody>\n",
       "</table>\n",
       "</div>"
      ],
      "text/plain": [
       "     Score_LAG1 Category_LAG1  Similarity_LAG1 Category  Similarity\n",
       "114        32.0       NOTHING         1.000000       RS    0.392857\n",
       "200        32.0        BOTTOM         0.968750       RS    0.812500\n",
       "321        32.0       NOTHING         0.035714       RS    0.289474\n",
       "335        32.0       NOTHING         1.000000      ALL    1.000000\n",
       "417        32.0       NOTHING         1.000000      ALL    1.000000\n",
       "496        32.0           TOP         1.000000       RS    0.888889\n",
       "594        32.0       NOTHING         1.000000       RS    0.565217\n",
       "611        32.0           TOP         1.000000       RS    0.562500"
      ]
     },
     "execution_count": 11,
     "metadata": {},
     "output_type": "execute_result"
    }
   ],
   "source": [
    "df3 = df2.query('Score_LAG1==32')\n",
    "df3 = df3.query('Category_LAG1!=\"RS\"')\n",
    "df3['No_WS'] = df3['Category'] != df3['Category_LAG1']\n",
    "df3 = df3[df3['No_WS']]\n",
    "print(df3.shape)\n",
    "df3[['Score_LAG1', 'Category_LAG1', 'Similarity_LAG1', 'Category', 'Similarity']]"
   ]
  },
  {
   "cell_type": "code",
   "execution_count": 90,
   "metadata": {},
   "outputs": [
    {
     "name": "stdout",
     "output_type": "stream",
     "text": [
      "[1, 1, 1, 1, 0, 0, 0, 0]\n",
      "[0, 0, 0, 1, 0, 0, 0, 0]\n",
      "[1, 1, 1, 1, 0, 0, 0, 0]\n",
      "[1, 1, 1, 1, 0, 0, 0, 0]\n",
      "[1, 1, 1, 1, 0, 0, 0, 0]\n",
      "[1, 1, 1, 1, 0, 0, 0, 0]\n",
      "[1, 1, 1, 1, 0, 0, 0, 0]\n",
      "[1, 1, 1, 1, 0, 0, 0, 0]\n",
      "\n",
      "[1, 1, 1, 1, 0, 0, 0, 0]\n",
      "[1, 1, 1, 1, 0, 0, 0, 0]\n",
      "[1, 1, 1, 1, 0, 0, 0, 0]\n",
      "[1, 1, 1, 1, 0, 0, 0, 0]\n",
      "[1, 1, 1, 1, 0, 0, 0, 0]\n",
      "[1, 1, 1, 1, 0, 0, 0, 0]\n",
      "[1, 1, 1, 1, 0, 0, 0, 0]\n",
      "[1, 1, 1, 1, 0, 0, 0, 0]\n"
     ]
    },
    {
     "data": {
      "text/plain": [
       "0.90625"
      ]
     },
     "execution_count": 90,
     "metadata": {},
     "output_type": "execute_result"
    }
   ],
   "source": [
    "region = df3['region'].iloc[10]\n",
    "imprime_region(region)\n",
    "print(\"\")\n",
    "imprime_region(regiones[4])\n",
    "sim_consist(region, regiones[4])"
   ]
  },
  {
   "cell_type": "code",
   "execution_count": 91,
   "metadata": {},
   "outputs": [
    {
     "name": "stdout",
     "output_type": "stream",
     "text": [
      "valor: 0.90625 vale?: True\n"
     ]
    },
    {
     "data": {
      "text/plain": [
       "'LEFT'"
      ]
     },
     "execution_count": 91,
     "metadata": {},
     "output_type": "execute_result"
    }
   ],
   "source": [
    "classify_region(region, regiones, TOLERANCIA)\n",
    "#maxSim2Focal(region, 8)"
   ]
  },
  {
   "cell_type": "code",
   "execution_count": null,
   "metadata": {},
   "outputs": [],
   "source": []
  }
 ],
 "metadata": {
  "colab": {
   "name": "Untitled1.ipynb",
   "provenance": []
  },
  "kernelspec": {
   "display_name": "Python 3",
   "language": "python",
   "name": "python3"
  },
  "language_info": {
   "codemirror_mode": {
    "name": "ipython",
    "version": 3
   },
   "file_extension": ".py",
   "mimetype": "text/x-python",
   "name": "python",
   "nbconvert_exporter": "python",
   "pygments_lexer": "ipython3",
   "version": "3.8.3"
  }
 },
 "nbformat": 4,
 "nbformat_minor": 1
}
